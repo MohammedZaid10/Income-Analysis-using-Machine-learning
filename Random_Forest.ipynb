{
  "nbformat": 4,
  "nbformat_minor": 0,
  "metadata": {
    "colab": {
      "name": "Random_Forest.ipynb",
      "provenance": [],
      "collapsed_sections": []
    },
    "kernelspec": {
      "name": "python3",
      "display_name": "Python 3"
    }
  },
  "cells": [
    {
      "cell_type": "code",
      "metadata": {
        "id": "H0E70hDpWIry"
      },
      "source": [
        "import pandas as pd\n",
        "import numpy as np\n",
        "import matplotlib.pyplot as plt\n",
        "import seaborn as sns\n",
        "%matplotlib inline"
      ],
      "execution_count": 1,
      "outputs": []
    },
    {
      "cell_type": "code",
      "metadata": {
        "id": "wjIAE-lKWMeX"
      },
      "source": [
        "income = pd.read_csv('adult_income.csv')"
      ],
      "execution_count": 2,
      "outputs": []
    },
    {
      "cell_type": "code",
      "metadata": {
        "colab": {
          "base_uri": "https://localhost:8080/",
          "height": 247
        },
        "id": "OsIdogPYWTBI",
        "outputId": "06d10a93-d70d-40ae-8078-1eb0b0221e97"
      },
      "source": [
        "income.head()"
      ],
      "execution_count": 3,
      "outputs": [
        {
          "output_type": "execute_result",
          "data": {
            "text/html": [
              "<div>\n",
              "<style scoped>\n",
              "    .dataframe tbody tr th:only-of-type {\n",
              "        vertical-align: middle;\n",
              "    }\n",
              "\n",
              "    .dataframe tbody tr th {\n",
              "        vertical-align: top;\n",
              "    }\n",
              "\n",
              "    .dataframe thead th {\n",
              "        text-align: right;\n",
              "    }\n",
              "</style>\n",
              "<table border=\"1\" class=\"dataframe\">\n",
              "  <thead>\n",
              "    <tr style=\"text-align: right;\">\n",
              "      <th></th>\n",
              "      <th>age</th>\n",
              "      <th>workclass</th>\n",
              "      <th>fnlwgt</th>\n",
              "      <th>education</th>\n",
              "      <th>education.num</th>\n",
              "      <th>marital.status</th>\n",
              "      <th>occupation</th>\n",
              "      <th>relationship</th>\n",
              "      <th>race</th>\n",
              "      <th>sex</th>\n",
              "      <th>capital.gain</th>\n",
              "      <th>capital.loss</th>\n",
              "      <th>hours.per.week</th>\n",
              "      <th>native.country</th>\n",
              "      <th>income</th>\n",
              "    </tr>\n",
              "  </thead>\n",
              "  <tbody>\n",
              "    <tr>\n",
              "      <th>0</th>\n",
              "      <td>90</td>\n",
              "      <td>?</td>\n",
              "      <td>77053</td>\n",
              "      <td>HS-grad</td>\n",
              "      <td>9</td>\n",
              "      <td>Widowed</td>\n",
              "      <td>?</td>\n",
              "      <td>Not-in-family</td>\n",
              "      <td>White</td>\n",
              "      <td>Female</td>\n",
              "      <td>0</td>\n",
              "      <td>4356</td>\n",
              "      <td>40</td>\n",
              "      <td>United-States</td>\n",
              "      <td>&lt;=50K</td>\n",
              "    </tr>\n",
              "    <tr>\n",
              "      <th>1</th>\n",
              "      <td>82</td>\n",
              "      <td>Private</td>\n",
              "      <td>132870</td>\n",
              "      <td>HS-grad</td>\n",
              "      <td>9</td>\n",
              "      <td>Widowed</td>\n",
              "      <td>Exec-managerial</td>\n",
              "      <td>Not-in-family</td>\n",
              "      <td>White</td>\n",
              "      <td>Female</td>\n",
              "      <td>0</td>\n",
              "      <td>4356</td>\n",
              "      <td>18</td>\n",
              "      <td>United-States</td>\n",
              "      <td>&lt;=50K</td>\n",
              "    </tr>\n",
              "    <tr>\n",
              "      <th>2</th>\n",
              "      <td>66</td>\n",
              "      <td>?</td>\n",
              "      <td>186061</td>\n",
              "      <td>Some-college</td>\n",
              "      <td>10</td>\n",
              "      <td>Widowed</td>\n",
              "      <td>?</td>\n",
              "      <td>Unmarried</td>\n",
              "      <td>Black</td>\n",
              "      <td>Female</td>\n",
              "      <td>0</td>\n",
              "      <td>4356</td>\n",
              "      <td>40</td>\n",
              "      <td>United-States</td>\n",
              "      <td>&lt;=50K</td>\n",
              "    </tr>\n",
              "    <tr>\n",
              "      <th>3</th>\n",
              "      <td>54</td>\n",
              "      <td>Private</td>\n",
              "      <td>140359</td>\n",
              "      <td>7th-8th</td>\n",
              "      <td>4</td>\n",
              "      <td>Divorced</td>\n",
              "      <td>Machine-op-inspct</td>\n",
              "      <td>Unmarried</td>\n",
              "      <td>White</td>\n",
              "      <td>Female</td>\n",
              "      <td>0</td>\n",
              "      <td>3900</td>\n",
              "      <td>40</td>\n",
              "      <td>United-States</td>\n",
              "      <td>&lt;=50K</td>\n",
              "    </tr>\n",
              "    <tr>\n",
              "      <th>4</th>\n",
              "      <td>41</td>\n",
              "      <td>Private</td>\n",
              "      <td>264663</td>\n",
              "      <td>Some-college</td>\n",
              "      <td>10</td>\n",
              "      <td>Separated</td>\n",
              "      <td>Prof-specialty</td>\n",
              "      <td>Own-child</td>\n",
              "      <td>White</td>\n",
              "      <td>Female</td>\n",
              "      <td>0</td>\n",
              "      <td>3900</td>\n",
              "      <td>40</td>\n",
              "      <td>United-States</td>\n",
              "      <td>&lt;=50K</td>\n",
              "    </tr>\n",
              "  </tbody>\n",
              "</table>\n",
              "</div>"
            ],
            "text/plain": [
              "   age workclass  fnlwgt  ... hours.per.week  native.country income\n",
              "0   90         ?   77053  ...             40   United-States  <=50K\n",
              "1   82   Private  132870  ...             18   United-States  <=50K\n",
              "2   66         ?  186061  ...             40   United-States  <=50K\n",
              "3   54   Private  140359  ...             40   United-States  <=50K\n",
              "4   41   Private  264663  ...             40   United-States  <=50K\n",
              "\n",
              "[5 rows x 15 columns]"
            ]
          },
          "metadata": {
            "tags": []
          },
          "execution_count": 3
        }
      ]
    },
    {
      "cell_type": "code",
      "metadata": {
        "id": "8xGxP6aGWb_b"
      },
      "source": [
        "income.columns = income.columns.str.replace('.','_')"
      ],
      "execution_count": 4,
      "outputs": []
    },
    {
      "cell_type": "code",
      "metadata": {
        "id": "10j4LDLNWeZC"
      },
      "source": [
        "income['income_map'] = income.income.map({'<=50K':0, '>50K': 1})\n",
        "income['sex_map'] = income.sex.map({'Female':0, 'Male':1})\n",
        "income['race_map']=income.race.map({'White':0, 'Black':1, \n",
        "                                    'Asian-Pac-Islander':2, 'Amer-Indian-Eskimo':3})\n",
        "income['marital_map'] = income.marital_status.map({'Widowed':0, 'Divorced':1, 'Separated':2,\n",
        "                                                  'Never-married':3, 'Married-civ-spouse':4,\n",
        "                                                  'Married-spouse-absent':5, 'Married-AF-spouse':6})\n",
        "income['rel_map']=income.relationship.map({'Not-in-family':0, 'Unmarried':0, \n",
        "                                           'Own-child':0, 'Other-relative':0, \n",
        "                                           'Husband':1, 'Wife':1})\n",
        "income['work_map']=income.workclass.map({'?':0, 'Private':1, 'State-gov':2, 'Federal-gov':3, \n",
        "                                        'Self-emp-not-inc':4, 'Self-emp-inc': 5, 'Local-gov': 6,\n",
        "                                        'Without-pay':7, 'Never-worked':8})"
      ],
      "execution_count": 5,
      "outputs": []
    },
    {
      "cell_type": "code",
      "metadata": {
        "id": "hkO7ZYe1Weso"
      },
      "source": [
        "num_cols = ['age', 'sex_map', 'race_map','education_num', 'work_map', \n",
        "            'marital_map', 'rel_map', 'hours_per_week','capital_gain', 'capital_loss', \n",
        "            'fnlwgt', 'income_map']"
      ],
      "execution_count": 6,
      "outputs": []
    },
    {
      "cell_type": "code",
      "metadata": {
        "id": "wSp0ipU6WfDp"
      },
      "source": [
        "income=income[num_cols].fillna(-9999)"
      ],
      "execution_count": 7,
      "outputs": []
    },
    {
      "cell_type": "code",
      "metadata": {
        "colab": {
          "base_uri": "https://localhost:8080/",
          "height": 197
        },
        "id": "fgKhcBWoWfag",
        "outputId": "46a67e9a-7c98-4829-eb11-2a9fa530e06e"
      },
      "source": [
        "income.head()"
      ],
      "execution_count": 8,
      "outputs": [
        {
          "output_type": "execute_result",
          "data": {
            "text/html": [
              "<div>\n",
              "<style scoped>\n",
              "    .dataframe tbody tr th:only-of-type {\n",
              "        vertical-align: middle;\n",
              "    }\n",
              "\n",
              "    .dataframe tbody tr th {\n",
              "        vertical-align: top;\n",
              "    }\n",
              "\n",
              "    .dataframe thead th {\n",
              "        text-align: right;\n",
              "    }\n",
              "</style>\n",
              "<table border=\"1\" class=\"dataframe\">\n",
              "  <thead>\n",
              "    <tr style=\"text-align: right;\">\n",
              "      <th></th>\n",
              "      <th>age</th>\n",
              "      <th>sex_map</th>\n",
              "      <th>race_map</th>\n",
              "      <th>education_num</th>\n",
              "      <th>work_map</th>\n",
              "      <th>marital_map</th>\n",
              "      <th>rel_map</th>\n",
              "      <th>hours_per_week</th>\n",
              "      <th>capital_gain</th>\n",
              "      <th>capital_loss</th>\n",
              "      <th>fnlwgt</th>\n",
              "      <th>income_map</th>\n",
              "    </tr>\n",
              "  </thead>\n",
              "  <tbody>\n",
              "    <tr>\n",
              "      <th>0</th>\n",
              "      <td>90</td>\n",
              "      <td>0</td>\n",
              "      <td>0.0</td>\n",
              "      <td>9</td>\n",
              "      <td>0</td>\n",
              "      <td>0</td>\n",
              "      <td>0</td>\n",
              "      <td>40</td>\n",
              "      <td>0</td>\n",
              "      <td>4356</td>\n",
              "      <td>77053</td>\n",
              "      <td>0</td>\n",
              "    </tr>\n",
              "    <tr>\n",
              "      <th>1</th>\n",
              "      <td>82</td>\n",
              "      <td>0</td>\n",
              "      <td>0.0</td>\n",
              "      <td>9</td>\n",
              "      <td>1</td>\n",
              "      <td>0</td>\n",
              "      <td>0</td>\n",
              "      <td>18</td>\n",
              "      <td>0</td>\n",
              "      <td>4356</td>\n",
              "      <td>132870</td>\n",
              "      <td>0</td>\n",
              "    </tr>\n",
              "    <tr>\n",
              "      <th>2</th>\n",
              "      <td>66</td>\n",
              "      <td>0</td>\n",
              "      <td>1.0</td>\n",
              "      <td>10</td>\n",
              "      <td>0</td>\n",
              "      <td>0</td>\n",
              "      <td>0</td>\n",
              "      <td>40</td>\n",
              "      <td>0</td>\n",
              "      <td>4356</td>\n",
              "      <td>186061</td>\n",
              "      <td>0</td>\n",
              "    </tr>\n",
              "    <tr>\n",
              "      <th>3</th>\n",
              "      <td>54</td>\n",
              "      <td>0</td>\n",
              "      <td>0.0</td>\n",
              "      <td>4</td>\n",
              "      <td>1</td>\n",
              "      <td>1</td>\n",
              "      <td>0</td>\n",
              "      <td>40</td>\n",
              "      <td>0</td>\n",
              "      <td>3900</td>\n",
              "      <td>140359</td>\n",
              "      <td>0</td>\n",
              "    </tr>\n",
              "    <tr>\n",
              "      <th>4</th>\n",
              "      <td>41</td>\n",
              "      <td>0</td>\n",
              "      <td>0.0</td>\n",
              "      <td>10</td>\n",
              "      <td>1</td>\n",
              "      <td>2</td>\n",
              "      <td>0</td>\n",
              "      <td>40</td>\n",
              "      <td>0</td>\n",
              "      <td>3900</td>\n",
              "      <td>264663</td>\n",
              "      <td>0</td>\n",
              "    </tr>\n",
              "  </tbody>\n",
              "</table>\n",
              "</div>"
            ],
            "text/plain": [
              "   age  sex_map  race_map  ...  capital_loss  fnlwgt  income_map\n",
              "0   90        0       0.0  ...          4356   77053           0\n",
              "1   82        0       0.0  ...          4356  132870           0\n",
              "2   66        0       1.0  ...          4356  186061           0\n",
              "3   54        0       0.0  ...          3900  140359           0\n",
              "4   41        0       0.0  ...          3900  264663           0\n",
              "\n",
              "[5 rows x 12 columns]"
            ]
          },
          "metadata": {
            "tags": []
          },
          "execution_count": 8
        }
      ]
    },
    {
      "cell_type": "code",
      "metadata": {
        "id": "B8niOTMDWfy0"
      },
      "source": [
        "features=['age', 'sex_map', 'race_map','education_num', 'work_map', \n",
        "          'marital_map', 'rel_map', 'hours_per_week','capital_gain', \n",
        "          'capital_loss', 'fnlwgt']\n",
        "\n",
        "target=['income_map']"
      ],
      "execution_count": 9,
      "outputs": []
    },
    {
      "cell_type": "code",
      "metadata": {
        "id": "OMtVZAJiWxlT"
      },
      "source": [
        "X = income[features].values\n",
        "y = income[target].values.flatten()"
      ],
      "execution_count": 10,
      "outputs": []
    },
    {
      "cell_type": "code",
      "metadata": {
        "id": "rzRQFDqrWx53"
      },
      "source": [
        "from sklearn.model_selection import train_test_split\n",
        "    \n",
        "X_train, X_test, y_train, y_test = train_test_split(X,y, random_state=0)"
      ],
      "execution_count": 11,
      "outputs": []
    },
    {
      "cell_type": "markdown",
      "metadata": {
        "id": "5CicYAokxMpz"
      },
      "source": [
        "# Random Forest Classifier"
      ]
    },
    {
      "cell_type": "code",
      "metadata": {
        "id": "qpZmtofSWyW0"
      },
      "source": [
        "def random_forest():\n",
        "    from sklearn.ensemble import RandomForestClassifier\n",
        "    from sklearn.model_selection import GridSearchCV\n",
        "    \n",
        "    clf = RandomForestClassifier(random_state=0)\n",
        "    grid_values = {'max_depth': np.arange(1,11,2), 'max_features': np.arange(1,11,2)}\n",
        "    \n",
        "    grid_clf = GridSearchCV(clf, param_grid = grid_values)\n",
        "    grid_clf.fit(X, y)\n",
        "    \n",
        "    \n",
        "    return grid_clf.best_estimator_"
      ],
      "execution_count": 12,
      "outputs": []
    },
    {
      "cell_type": "code",
      "metadata": {
        "id": "d86gZzK1Wyr_"
      },
      "source": [
        "rdm_forest_clf = random_forest()"
      ],
      "execution_count": 13,
      "outputs": []
    },
    {
      "cell_type": "markdown",
      "metadata": {
        "id": "Pu4RxBl4JNFm"
      },
      "source": [
        "# Analysis of Income using the Machine learning Algorithms "
      ]
    },
    {
      "cell_type": "markdown",
      "metadata": {
        "id": "VRJCRquMM7Ko"
      },
      "source": [
        "Evaluation"
      ]
    },
    {
      "cell_type": "code",
      "metadata": {
        "id": "lDGN5UVoWzMZ"
      },
      "source": [
        "def evaluation(model):\n",
        "    from sklearn.metrics import classification_report\n",
        "    \n",
        "    # This function gives provides verious evaluation metrics for the input model\n",
        "    \n",
        "    y_pred = model.predict(X_test)\n",
        "    \n",
        "    print(classification_report(y_test, y_pred, target_names = ['Under 50k', 'Over 50k']))\n",
        "    print('Training Set Accuracy Score: {:.2f}'.format(model.score(X_train, y_train)))\n",
        "    print('Testing Set Accuracy Score: {:.2f}'.format(model.score(X_test, y_test)))"
      ],
      "execution_count": 14,
      "outputs": []
    },
    {
      "cell_type": "code",
      "metadata": {
        "colab": {
          "base_uri": "https://localhost:8080/"
        },
        "id": "ZwE6l7QtWzcF",
        "outputId": "6e2d9323-abac-4b80-ff97-1bb0ae633811"
      },
      "source": [
        "evaluation(rdm_forest_clf)"
      ],
      "execution_count": 15,
      "outputs": [
        {
          "output_type": "stream",
          "text": [
            "              precision    recall  f1-score   support\n",
            "\n",
            "   Under 50k       0.86      0.95      0.90      6193\n",
            "    Over 50k       0.76      0.51      0.61      1948\n",
            "\n",
            "    accuracy                           0.84      8141\n",
            "   macro avg       0.81      0.73      0.76      8141\n",
            "weighted avg       0.84      0.84      0.83      8141\n",
            "\n",
            "Training Set Accuracy Score: 0.84\n",
            "Testing Set Accuracy Score: 0.84\n"
          ],
          "name": "stdout"
        }
      ]
    },
    {
      "cell_type": "markdown",
      "metadata": {
        "id": "xLP0VI9sNFt5"
      },
      "source": [
        "Precision-Recall"
      ]
    },
    {
      "cell_type": "markdown",
      "metadata": {
        "id": "emRa9e0bNSHK"
      },
      "source": [
        "The Precision-Recall curve shows the trade off between precision and recall scores as we vary the decision threshold for classification (using either using either a probability threshold or a decision function threshold)."
      ]
    },
    {
      "cell_type": "code",
      "metadata": {
        "id": "OtUumPUVXG92"
      },
      "source": [
        "def precision_recall(model):\n",
        "    from sklearn.metrics import precision_recall_curve\n",
        "    \n",
        "    proba = model.predict_proba(X_test)\n",
        "    \n",
        "    precision, recall, threshold = precision_recall_curve(y_test, proba[:,1])\n",
        "    \n",
        "    plt.plot(precision, recall)\n",
        "    plt.xlabel('Precision')\n",
        "    plt.ylabel('Recall')\n",
        "    plt.title('Precision-Recall Curve')"
      ],
      "execution_count": 16,
      "outputs": []
    },
    {
      "cell_type": "code",
      "metadata": {
        "colab": {
          "base_uri": "https://localhost:8080/",
          "height": 294
        },
        "id": "VpFCmPx3XHcj",
        "outputId": "31925930-a565-40de-d8f5-231237309f47"
      },
      "source": [
        "precision_recall(rdm_forest_clf)"
      ],
      "execution_count": 17,
      "outputs": [
        {
          "output_type": "display_data",
          "data": {
            "image/png": "[encoded data removed]",
            "text/plain": [
              "<Figure size 432x288 with 1 Axes>"
            ]
          },
          "metadata": {
            "tags": [],
            "needs_background": "light"
          }
        }
      ]
    },
    {
      "cell_type": "markdown",
      "metadata": {
        "id": "LAYtm7ZHNUKb"
      },
      "source": [
        "Roc Curve"
      ]
    },
    {
      "cell_type": "markdown",
      "metadata": {
        "id": "gz_KHj70Ne2I"
      },
      "source": [
        "The ROC curve (Receiver Operating Charastic) preforms the same feat for the True Positive Rate (recall) and the False Positive Rate. "
      ]
    },
    {
      "cell_type": "code",
      "metadata": {
        "id": "KTWN53_BXOCf"
      },
      "source": [
        "def roc_curve(model):\n",
        "    from sklearn.metrics import roc_curve, auc\n",
        "    \n",
        "    #scores = model.decision_function(X_test)\n",
        "    proba = model.predict_proba(X_test)\n",
        "    \n",
        "    fpr, tpr, _ = roc_curve(y_test, proba[:,1])\n",
        "    \n",
        "    plt.plot(fpr, tpr)\n",
        "    plt.xlabel('False Positive Rate')\n",
        "    plt.ylabel('True Positive Rate')\n",
        "    plt.title('ROC Curve. AUC: {}'.format(auc(fpr, tpr)))"
      ],
      "execution_count": 18,
      "outputs": []
    },
    {
      "cell_type": "code",
      "metadata": {
        "colab": {
          "base_uri": "https://localhost:8080/",
          "height": 294
        },
        "id": "ChdC7JF5XQWO",
        "outputId": "0870a695-b332-47b3-b6a9-8917e6ceb888"
      },
      "source": [
        "roc_curve(rdm_forest_clf)"
      ],
      "execution_count": 19,
      "outputs": [
        {
          "output_type": "display_data",
          "data": {
            "image/png": "[encoded data removed]",
            "text/plain": [
              "<Figure size 432x288 with 1 Axes>"
            ]
          },
          "metadata": {
            "tags": [],
            "needs_background": "light"
          }
        }
      ]
    },
    {
      "cell_type": "markdown",
      "metadata": {
        "id": "8RkbYUj3Nlkm"
      },
      "source": [
        "Micro Average and Macro Average"
      ]
    },
    {
      "cell_type": "markdown",
      "metadata": {
        "id": "3To6e4aVNvf4"
      },
      "source": [
        "When the micro average (each instance has same weight) preforms better than the macro average (each class has same weight) this is an indicator that the model is preforming better on the more frequent class. This holds true with the results from the evaluation function above, in which the model performed substantially better on the class earning less than $50,000."
      ]
    },
    {
      "cell_type": "code",
      "metadata": {
        "colab": {
          "base_uri": "https://localhost:8080/"
        },
        "id": "gADEa6_KXUkx",
        "outputId": "80582dd4-fd4c-4769-d242-cfea81adbcd3"
      },
      "source": [
        "from sklearn.metrics import precision_score\n",
        "\n",
        "y_pred = rdm_forest_clf.predict(X_test)\n",
        "\n",
        "micro_avg = precision_score(y_test, y_pred, average='micro')\n",
        "macro_avg = precision_score(y_test, y_pred, average='macro')\n",
        "\n",
        "print('Micro Average Precision Score: {:.2f}'.format(\n",
        "    precision_score(y_test, y_pred, average='micro')))\n",
        "print('Macro Average Precision Score: {:.2f}'.format(\n",
        "    precision_score(y_test, y_pred, average='macro')))\n"
      ],
      "execution_count": 20,
      "outputs": [
        {
          "output_type": "stream",
          "text": [
            "Micro Average Precision Score: 0.84\n",
            "Macro Average Precision Score: 0.81\n"
          ],
          "name": "stdout"
        }
      ]
    },
    {
      "cell_type": "markdown",
      "metadata": {
        "id": "oadM4E_5VbMF"
      },
      "source": [
        "##OUTCOME :Accuracy of Income Class in %"
      ]
    },
    {
      "cell_type": "markdown",
      "metadata": {
        "id": "wCFEejLyNAKC"
      },
      "source": [
        "Confusion Matrix"
      ]
    },
    {
      "cell_type": "code",
      "metadata": {
        "id": "_8cPJWszWz4Y"
      },
      "source": [
        "def confusion(model):\n",
        "    \n",
        "    # Creats a confusion matrix/heatmap for the logistic regression models predicted values\n",
        "    from sklearn.metrics import confusion_matrix\n",
        "    \n",
        "    y_pred = model.predict(X_test)\n",
        "    confusion_mc = confusion_matrix(y_test, y_pred)\n",
        "    df_cm = pd.DataFrame(confusion_mc)\n",
        "\n",
        "    plt.figure(figsize=(5.5,4))\n",
        "    sns.heatmap(df_cm, annot=True)\n",
        "    n1=model.score(X_test, y_test)\n",
        "    plt.title('Model Accuracy:{:.2%}'.format(n1))"
      ],
      "execution_count": 21,
      "outputs": []
    },
    {
      "cell_type": "code",
      "metadata": {
        "colab": {
          "base_uri": "https://localhost:8080/",
          "height": 281
        },
        "id": "RWZ46ORgXGmU",
        "outputId": "4e94168c-7310-4ce7-d856-acb6cd0bdb3f"
      },
      "source": [
        "confusion(rdm_forest_clf)"
      ],
      "execution_count": 22,
      "outputs": [
        {
          "output_type": "display_data",
          "data": {
            "image/png": "[encoded data removed]",
            "text/plain": [
              "<Figure size 396x288 with 2 Axes>"
            ]
          },
          "metadata": {
            "tags": [],
            "needs_background": "light"
          }
        }
      ]
    },
    {
      "cell_type": "markdown",
      "metadata": {
        "id": "StwdBRJNN_00"
      },
      "source": [
        "# Income Class of Adults (Above and Below 50k)"
      ]
    },
    {
      "cell_type": "code",
      "metadata": {
        "colab": {
          "base_uri": "https://localhost:8080/"
        },
        "id": "JZxtgBr4XZE4",
        "outputId": "8d7f1eff-55b6-40ff-f336-2fba4d30396b"
      },
      "source": [
        "while True:\n",
        "    try:\n",
        "        print('Press 1 to the Number of people earning $50,000')\n",
        "        print('Press 2 to the Number of people earning $50,000')\n",
        "        A=int(input())\n",
        "    except ValueError:\n",
        "        print(\"Sorry i didn't understand that\")\n",
        "        continue\n",
        "    else:\n",
        "        break\n",
        "if A == 1:\n",
        "  print('Number of people earning more than $50,000 out of 32561 people: {}'.format(\n",
        "    len(income[income.income_map ==1])))\n",
        "elif A == 2:\n",
        "  print('Number of people earning less than $50,000 out of 32561 people: {}'.format(\n",
        "    len(income[income.income_map ==0])))\n",
        "else :\n",
        "  print('Wrong input')"
      ],
      "execution_count": 23,
      "outputs": [
        {
          "output_type": "stream",
          "text": [
            "Press 1 to the Number of people earning $50,000\n",
            "Press 2 to the Number of people earning $50,000\n",
            "1\n",
            "Number of people earning more than $50,000 out of 32561 people: 7841\n"
          ],
          "name": "stdout"
        }
      ]
    },
    {
      "cell_type": "code",
      "metadata": {
        "id": "CjcV682g2sS9"
      },
      "source": [
        "details = pd.DataFrame(income)"
      ],
      "execution_count": 24,
      "outputs": []
    },
    {
      "cell_type": "markdown",
      "metadata": {
        "id": "uHA-q81rs96e"
      },
      "source": [
        "### Analysis and Understand how Social-Economic conditions have an impact on Income \n",
        "Condtions are a)Sex,\n",
        "              b)Race,\n",
        "              c)Marital Status,\n",
        "              d)Relationship Status and \n",
        "              e)Work Status"
      ]
    },
    {
      "cell_type": "markdown",
      "metadata": {
        "id": "YSWx9VkW3i1-"
      },
      "source": [
        "Analysis of Sex"
      ]
    },
    {
      "cell_type": "code",
      "metadata": {
        "id": "tZZ5akAvo1pa"
      },
      "source": [
        "def Sexincome (row):\n",
        "   if row['income_map'] + row['sex_map'] == 0 :\n",
        "      return 'Female less than 50k'\n",
        "   if row['income_map'] + row['sex_map'] > 1 :\n",
        "      return 'Male more than 50k'\n",
        "   if row['income_map'] == 0 and row ['sex_map'] == 1 :\n",
        "      return 'Male less than 50k'\n",
        "   if row['income_map'] == 1 and row ['sex_map'] == 0 :\n",
        "      return 'Female more than 50k'"
      ],
      "execution_count": 25,
      "outputs": []
    },
    {
      "cell_type": "code",
      "metadata": {
        "colab": {
          "base_uri": "https://localhost:8080/"
        },
        "id": "taBy2kYXo7d3",
        "outputId": "46289dbb-e6f7-4bed-d858-6b678e64653e"
      },
      "source": [
        "details.apply (lambda row: Sexincome(row), axis=1)"
      ],
      "execution_count": 26,
      "outputs": [
        {
          "output_type": "execute_result",
          "data": {
            "text/plain": [
              "0        Female less than 50k\n",
              "1        Female less than 50k\n",
              "2        Female less than 50k\n",
              "3        Female less than 50k\n",
              "4        Female less than 50k\n",
              "                 ...         \n",
              "32556      Male less than 50k\n",
              "32557    Female less than 50k\n",
              "32558      Male more than 50k\n",
              "32559    Female less than 50k\n",
              "32560      Male less than 50k\n",
              "Length: 32561, dtype: object"
            ]
          },
          "metadata": {
            "tags": []
          },
          "execution_count": 26
        }
      ]
    },
    {
      "cell_type": "code",
      "metadata": {
        "id": "ujtD7ZrclBe-"
      },
      "source": [
        "details['Sexandtheirincome'] = details.apply (lambda row: Sexincome(row), axis=1)"
      ],
      "execution_count": 27,
      "outputs": []
    },
    {
      "cell_type": "code",
      "metadata": {
        "colab": {
          "base_uri": "https://localhost:8080/",
          "height": 406
        },
        "id": "_yeqeJIpnWc_",
        "outputId": "bcbb83e0-14c8-4c3b-d636-971501805785"
      },
      "source": [
        "details"
      ],
      "execution_count": 28,
      "outputs": [
        {
          "output_type": "execute_result",
          "data": {
            "text/html": [
              "<div>\n",
              "<style scoped>\n",
              "    .dataframe tbody tr th:only-of-type {\n",
              "        vertical-align: middle;\n",
              "    }\n",
              "\n",
              "    .dataframe tbody tr th {\n",
              "        vertical-align: top;\n",
              "    }\n",
              "\n",
              "    .dataframe thead th {\n",
              "        text-align: right;\n",
              "    }\n",
              "</style>\n",
              "<table border=\"1\" class=\"dataframe\">\n",
              "  <thead>\n",
              "    <tr style=\"text-align: right;\">\n",
              "      <th></th>\n",
              "      <th>age</th>\n",
              "      <th>sex_map</th>\n",
              "      <th>race_map</th>\n",
              "      <th>education_num</th>\n",
              "      <th>work_map</th>\n",
              "      <th>marital_map</th>\n",
              "      <th>rel_map</th>\n",
              "      <th>hours_per_week</th>\n",
              "      <th>capital_gain</th>\n",
              "      <th>capital_loss</th>\n",
              "      <th>fnlwgt</th>\n",
              "      <th>income_map</th>\n",
              "      <th>Sexandtheirincome</th>\n",
              "    </tr>\n",
              "  </thead>\n",
              "  <tbody>\n",
              "    <tr>\n",
              "      <th>0</th>\n",
              "      <td>90</td>\n",
              "      <td>0</td>\n",
              "      <td>0.0</td>\n",
              "      <td>9</td>\n",
              "      <td>0</td>\n",
              "      <td>0</td>\n",
              "      <td>0</td>\n",
              "      <td>40</td>\n",
              "      <td>0</td>\n",
              "      <td>4356</td>\n",
              "      <td>77053</td>\n",
              "      <td>0</td>\n",
              "      <td>Female less than 50k</td>\n",
              "    </tr>\n",
              "    <tr>\n",
              "      <th>1</th>\n",
              "      <td>82</td>\n",
              "      <td>0</td>\n",
              "      <td>0.0</td>\n",
              "      <td>9</td>\n",
              "      <td>1</td>\n",
              "      <td>0</td>\n",
              "      <td>0</td>\n",
              "      <td>18</td>\n",
              "      <td>0</td>\n",
              "      <td>4356</td>\n",
              "      <td>132870</td>\n",
              "      <td>0</td>\n",
              "      <td>Female less than 50k</td>\n",
              "    </tr>\n",
              "    <tr>\n",
              "      <th>2</th>\n",
              "      <td>66</td>\n",
              "      <td>0</td>\n",
              "      <td>1.0</td>\n",
              "      <td>10</td>\n",
              "      <td>0</td>\n",
              "      <td>0</td>\n",
              "      <td>0</td>\n",
              "      <td>40</td>\n",
              "      <td>0</td>\n",
              "      <td>4356</td>\n",
              "      <td>186061</td>\n",
              "      <td>0</td>\n",
              "      <td>Female less than 50k</td>\n",
              "    </tr>\n",
              "    <tr>\n",
              "      <th>3</th>\n",
              "      <td>54</td>\n",
              "      <td>0</td>\n",
              "      <td>0.0</td>\n",
              "      <td>4</td>\n",
              "      <td>1</td>\n",
              "      <td>1</td>\n",
              "      <td>0</td>\n",
              "      <td>40</td>\n",
              "      <td>0</td>\n",
              "      <td>3900</td>\n",
              "      <td>140359</td>\n",
              "      <td>0</td>\n",
              "      <td>Female less than 50k</td>\n",
              "    </tr>\n",
              "    <tr>\n",
              "      <th>4</th>\n",
              "      <td>41</td>\n",
              "      <td>0</td>\n",
              "      <td>0.0</td>\n",
              "      <td>10</td>\n",
              "      <td>1</td>\n",
              "      <td>2</td>\n",
              "      <td>0</td>\n",
              "      <td>40</td>\n",
              "      <td>0</td>\n",
              "      <td>3900</td>\n",
              "      <td>264663</td>\n",
              "      <td>0</td>\n",
              "      <td>Female less than 50k</td>\n",
              "    </tr>\n",
              "    <tr>\n",
              "      <th>...</th>\n",
              "      <td>...</td>\n",
              "      <td>...</td>\n",
              "      <td>...</td>\n",
              "      <td>...</td>\n",
              "      <td>...</td>\n",
              "      <td>...</td>\n",
              "      <td>...</td>\n",
              "      <td>...</td>\n",
              "      <td>...</td>\n",
              "      <td>...</td>\n",
              "      <td>...</td>\n",
              "      <td>...</td>\n",
              "      <td>...</td>\n",
              "    </tr>\n",
              "    <tr>\n",
              "      <th>32556</th>\n",
              "      <td>22</td>\n",
              "      <td>1</td>\n",
              "      <td>0.0</td>\n",
              "      <td>10</td>\n",
              "      <td>1</td>\n",
              "      <td>3</td>\n",
              "      <td>0</td>\n",
              "      <td>40</td>\n",
              "      <td>0</td>\n",
              "      <td>0</td>\n",
              "      <td>310152</td>\n",
              "      <td>0</td>\n",
              "      <td>Male less than 50k</td>\n",
              "    </tr>\n",
              "    <tr>\n",
              "      <th>32557</th>\n",
              "      <td>27</td>\n",
              "      <td>0</td>\n",
              "      <td>0.0</td>\n",
              "      <td>12</td>\n",
              "      <td>1</td>\n",
              "      <td>4</td>\n",
              "      <td>1</td>\n",
              "      <td>38</td>\n",
              "      <td>0</td>\n",
              "      <td>0</td>\n",
              "      <td>257302</td>\n",
              "      <td>0</td>\n",
              "      <td>Female less than 50k</td>\n",
              "    </tr>\n",
              "    <tr>\n",
              "      <th>32558</th>\n",
              "      <td>40</td>\n",
              "      <td>1</td>\n",
              "      <td>0.0</td>\n",
              "      <td>9</td>\n",
              "      <td>1</td>\n",
              "      <td>4</td>\n",
              "      <td>1</td>\n",
              "      <td>40</td>\n",
              "      <td>0</td>\n",
              "      <td>0</td>\n",
              "      <td>154374</td>\n",
              "      <td>1</td>\n",
              "      <td>Male more than 50k</td>\n",
              "    </tr>\n",
              "    <tr>\n",
              "      <th>32559</th>\n",
              "      <td>58</td>\n",
              "      <td>0</td>\n",
              "      <td>0.0</td>\n",
              "      <td>9</td>\n",
              "      <td>1</td>\n",
              "      <td>0</td>\n",
              "      <td>0</td>\n",
              "      <td>40</td>\n",
              "      <td>0</td>\n",
              "      <td>0</td>\n",
              "      <td>151910</td>\n",
              "      <td>0</td>\n",
              "      <td>Female less than 50k</td>\n",
              "    </tr>\n",
              "    <tr>\n",
              "      <th>32560</th>\n",
              "      <td>22</td>\n",
              "      <td>1</td>\n",
              "      <td>0.0</td>\n",
              "      <td>9</td>\n",
              "      <td>1</td>\n",
              "      <td>3</td>\n",
              "      <td>0</td>\n",
              "      <td>20</td>\n",
              "      <td>0</td>\n",
              "      <td>0</td>\n",
              "      <td>201490</td>\n",
              "      <td>0</td>\n",
              "      <td>Male less than 50k</td>\n",
              "    </tr>\n",
              "  </tbody>\n",
              "</table>\n",
              "<p>32561 rows × 13 columns</p>\n",
              "</div>"
            ],
            "text/plain": [
              "       age  sex_map  race_map  ...  fnlwgt  income_map     Sexandtheirincome\n",
              "0       90        0       0.0  ...   77053           0  Female less than 50k\n",
              "1       82        0       0.0  ...  132870           0  Female less than 50k\n",
              "2       66        0       1.0  ...  186061           0  Female less than 50k\n",
              "3       54        0       0.0  ...  140359           0  Female less than 50k\n",
              "4       41        0       0.0  ...  264663           0  Female less than 50k\n",
              "...    ...      ...       ...  ...     ...         ...                   ...\n",
              "32556   22        1       0.0  ...  310152           0    Male less than 50k\n",
              "32557   27        0       0.0  ...  257302           0  Female less than 50k\n",
              "32558   40        1       0.0  ...  154374           1    Male more than 50k\n",
              "32559   58        0       0.0  ...  151910           0  Female less than 50k\n",
              "32560   22        1       0.0  ...  201490           0    Male less than 50k\n",
              "\n",
              "[32561 rows x 13 columns]"
            ]
          },
          "metadata": {
            "tags": []
          },
          "execution_count": 28
        }
      ]
    },
    {
      "cell_type": "markdown",
      "metadata": {
        "id": "dDaklfXd3svq"
      },
      "source": [
        "Analysis of Race"
      ]
    },
    {
      "cell_type": "code",
      "metadata": {
        "id": "v5qmpFths5_8"
      },
      "source": [
        "def Racerow (row):\n",
        "   if row['income_map'] + row['race_map'] == 0 :\n",
        "      return 'White less than 50k'\n",
        "   if row['income_map'] == 1 and row ['race_map'] == 0:\n",
        "      return 'White more than 50k'\n",
        "   if row['income_map'] == 1 and row ['race_map'] == 1:\n",
        "      return 'Black more than 50k'\n",
        "   if row['income_map'] ==0  and row ['race_map'] == 1:\n",
        "      return 'Black less than 50k'\n",
        "   if row['income_map'] == 1 and row ['race_map'] == 2:\n",
        "      return 'Asian-Pac more than 50k'\n",
        "   if row['income_map'] == 0 and row ['race_map'] == 2:\n",
        "      return 'Asian-Pac less than 50k'\n",
        "   if row['income_map'] == 1 and row ['race_map'] == 3:\n",
        "      return 'Amer-Indian more than 50k'\n",
        "   if row['income_map'] == 0 and row ['race_map'] == 3:\n",
        "      return 'Amer-Indian less than 50k'"
      ],
      "execution_count": 29,
      "outputs": []
    },
    {
      "cell_type": "code",
      "metadata": {
        "colab": {
          "base_uri": "https://localhost:8080/"
        },
        "id": "pmUvXYD_0w3I",
        "outputId": "0ad192d2-6b22-463c-dca7-3859a8f47050"
      },
      "source": [
        "details.apply (lambda row: Racerow(row), axis=1)"
      ],
      "execution_count": 30,
      "outputs": [
        {
          "output_type": "execute_result",
          "data": {
            "text/plain": [
              "0        White less than 50k\n",
              "1        White less than 50k\n",
              "2        Black less than 50k\n",
              "3        White less than 50k\n",
              "4        White less than 50k\n",
              "                ...         \n",
              "32556    White less than 50k\n",
              "32557    White less than 50k\n",
              "32558    White more than 50k\n",
              "32559    White less than 50k\n",
              "32560    White less than 50k\n",
              "Length: 32561, dtype: object"
            ]
          },
          "metadata": {
            "tags": []
          },
          "execution_count": 30
        }
      ]
    },
    {
      "cell_type": "code",
      "metadata": {
        "id": "6IndGQTi0_-8"
      },
      "source": [
        "details['Raceandtheirincome'] = details.apply (lambda row: Racerow(row), axis=1)"
      ],
      "execution_count": 31,
      "outputs": []
    },
    {
      "cell_type": "code",
      "metadata": {
        "colab": {
          "base_uri": "https://localhost:8080/",
          "height": 406
        },
        "id": "xrOvYga61QTv",
        "outputId": "0aefb501-b0f0-49b7-f913-f60b43f9cfff"
      },
      "source": [
        "details"
      ],
      "execution_count": 32,
      "outputs": [
        {
          "output_type": "execute_result",
          "data": {
            "text/html": [
              "<div>\n",
              "<style scoped>\n",
              "    .dataframe tbody tr th:only-of-type {\n",
              "        vertical-align: middle;\n",
              "    }\n",
              "\n",
              "    .dataframe tbody tr th {\n",
              "        vertical-align: top;\n",
              "    }\n",
              "\n",
              "    .dataframe thead th {\n",
              "        text-align: right;\n",
              "    }\n",
              "</style>\n",
              "<table border=\"1\" class=\"dataframe\">\n",
              "  <thead>\n",
              "    <tr style=\"text-align: right;\">\n",
              "      <th></th>\n",
              "      <th>age</th>\n",
              "      <th>sex_map</th>\n",
              "      <th>race_map</th>\n",
              "      <th>education_num</th>\n",
              "      <th>work_map</th>\n",
              "      <th>marital_map</th>\n",
              "      <th>rel_map</th>\n",
              "      <th>hours_per_week</th>\n",
              "      <th>capital_gain</th>\n",
              "      <th>capital_loss</th>\n",
              "      <th>fnlwgt</th>\n",
              "      <th>income_map</th>\n",
              "      <th>Sexandtheirincome</th>\n",
              "      <th>Raceandtheirincome</th>\n",
              "    </tr>\n",
              "  </thead>\n",
              "  <tbody>\n",
              "    <tr>\n",
              "      <th>0</th>\n",
              "      <td>90</td>\n",
              "      <td>0</td>\n",
              "      <td>0.0</td>\n",
              "      <td>9</td>\n",
              "      <td>0</td>\n",
              "      <td>0</td>\n",
              "      <td>0</td>\n",
              "      <td>40</td>\n",
              "      <td>0</td>\n",
              "      <td>4356</td>\n",
              "      <td>77053</td>\n",
              "      <td>0</td>\n",
              "      <td>Female less than 50k</td>\n",
              "      <td>White less than 50k</td>\n",
              "    </tr>\n",
              "    <tr>\n",
              "      <th>1</th>\n",
              "      <td>82</td>\n",
              "      <td>0</td>\n",
              "      <td>0.0</td>\n",
              "      <td>9</td>\n",
              "      <td>1</td>\n",
              "      <td>0</td>\n",
              "      <td>0</td>\n",
              "      <td>18</td>\n",
              "      <td>0</td>\n",
              "      <td>4356</td>\n",
              "      <td>132870</td>\n",
              "      <td>0</td>\n",
              "      <td>Female less than 50k</td>\n",
              "      <td>White less than 50k</td>\n",
              "    </tr>\n",
              "    <tr>\n",
              "      <th>2</th>\n",
              "      <td>66</td>\n",
              "      <td>0</td>\n",
              "      <td>1.0</td>\n",
              "      <td>10</td>\n",
              "      <td>0</td>\n",
              "      <td>0</td>\n",
              "      <td>0</td>\n",
              "      <td>40</td>\n",
              "      <td>0</td>\n",
              "      <td>4356</td>\n",
              "      <td>186061</td>\n",
              "      <td>0</td>\n",
              "      <td>Female less than 50k</td>\n",
              "      <td>Black less than 50k</td>\n",
              "    </tr>\n",
              "    <tr>\n",
              "      <th>3</th>\n",
              "      <td>54</td>\n",
              "      <td>0</td>\n",
              "      <td>0.0</td>\n",
              "      <td>4</td>\n",
              "      <td>1</td>\n",
              "      <td>1</td>\n",
              "      <td>0</td>\n",
              "      <td>40</td>\n",
              "      <td>0</td>\n",
              "      <td>3900</td>\n",
              "      <td>140359</td>\n",
              "      <td>0</td>\n",
              "      <td>Female less than 50k</td>\n",
              "      <td>White less than 50k</td>\n",
              "    </tr>\n",
              "    <tr>\n",
              "      <th>4</th>\n",
              "      <td>41</td>\n",
              "      <td>0</td>\n",
              "      <td>0.0</td>\n",
              "      <td>10</td>\n",
              "      <td>1</td>\n",
              "      <td>2</td>\n",
              "      <td>0</td>\n",
              "      <td>40</td>\n",
              "      <td>0</td>\n",
              "      <td>3900</td>\n",
              "      <td>264663</td>\n",
              "      <td>0</td>\n",
              "      <td>Female less than 50k</td>\n",
              "      <td>White less than 50k</td>\n",
              "    </tr>\n",
              "    <tr>\n",
              "      <th>...</th>\n",
              "      <td>...</td>\n",
              "      <td>...</td>\n",
              "      <td>...</td>\n",
              "      <td>...</td>\n",
              "      <td>...</td>\n",
              "      <td>...</td>\n",
              "      <td>...</td>\n",
              "      <td>...</td>\n",
              "      <td>...</td>\n",
              "      <td>...</td>\n",
              "      <td>...</td>\n",
              "      <td>...</td>\n",
              "      <td>...</td>\n",
              "      <td>...</td>\n",
              "    </tr>\n",
              "    <tr>\n",
              "      <th>32556</th>\n",
              "      <td>22</td>\n",
              "      <td>1</td>\n",
              "      <td>0.0</td>\n",
              "      <td>10</td>\n",
              "      <td>1</td>\n",
              "      <td>3</td>\n",
              "      <td>0</td>\n",
              "      <td>40</td>\n",
              "      <td>0</td>\n",
              "      <td>0</td>\n",
              "      <td>310152</td>\n",
              "      <td>0</td>\n",
              "      <td>Male less than 50k</td>\n",
              "      <td>White less than 50k</td>\n",
              "    </tr>\n",
              "    <tr>\n",
              "      <th>32557</th>\n",
              "      <td>27</td>\n",
              "      <td>0</td>\n",
              "      <td>0.0</td>\n",
              "      <td>12</td>\n",
              "      <td>1</td>\n",
              "      <td>4</td>\n",
              "      <td>1</td>\n",
              "      <td>38</td>\n",
              "      <td>0</td>\n",
              "      <td>0</td>\n",
              "      <td>257302</td>\n",
              "      <td>0</td>\n",
              "      <td>Female less than 50k</td>\n",
              "      <td>White less than 50k</td>\n",
              "    </tr>\n",
              "    <tr>\n",
              "      <th>32558</th>\n",
              "      <td>40</td>\n",
              "      <td>1</td>\n",
              "      <td>0.0</td>\n",
              "      <td>9</td>\n",
              "      <td>1</td>\n",
              "      <td>4</td>\n",
              "      <td>1</td>\n",
              "      <td>40</td>\n",
              "      <td>0</td>\n",
              "      <td>0</td>\n",
              "      <td>154374</td>\n",
              "      <td>1</td>\n",
              "      <td>Male more than 50k</td>\n",
              "      <td>White more than 50k</td>\n",
              "    </tr>\n",
              "    <tr>\n",
              "      <th>32559</th>\n",
              "      <td>58</td>\n",
              "      <td>0</td>\n",
              "      <td>0.0</td>\n",
              "      <td>9</td>\n",
              "      <td>1</td>\n",
              "      <td>0</td>\n",
              "      <td>0</td>\n",
              "      <td>40</td>\n",
              "      <td>0</td>\n",
              "      <td>0</td>\n",
              "      <td>151910</td>\n",
              "      <td>0</td>\n",
              "      <td>Female less than 50k</td>\n",
              "      <td>White less than 50k</td>\n",
              "    </tr>\n",
              "    <tr>\n",
              "      <th>32560</th>\n",
              "      <td>22</td>\n",
              "      <td>1</td>\n",
              "      <td>0.0</td>\n",
              "      <td>9</td>\n",
              "      <td>1</td>\n",
              "      <td>3</td>\n",
              "      <td>0</td>\n",
              "      <td>20</td>\n",
              "      <td>0</td>\n",
              "      <td>0</td>\n",
              "      <td>201490</td>\n",
              "      <td>0</td>\n",
              "      <td>Male less than 50k</td>\n",
              "      <td>White less than 50k</td>\n",
              "    </tr>\n",
              "  </tbody>\n",
              "</table>\n",
              "<p>32561 rows × 14 columns</p>\n",
              "</div>"
            ],
            "text/plain": [
              "       age  sex_map  ...     Sexandtheirincome   Raceandtheirincome\n",
              "0       90        0  ...  Female less than 50k  White less than 50k\n",
              "1       82        0  ...  Female less than 50k  White less than 50k\n",
              "2       66        0  ...  Female less than 50k  Black less than 50k\n",
              "3       54        0  ...  Female less than 50k  White less than 50k\n",
              "4       41        0  ...  Female less than 50k  White less than 50k\n",
              "...    ...      ...  ...                   ...                  ...\n",
              "32556   22        1  ...    Male less than 50k  White less than 50k\n",
              "32557   27        0  ...  Female less than 50k  White less than 50k\n",
              "32558   40        1  ...    Male more than 50k  White more than 50k\n",
              "32559   58        0  ...  Female less than 50k  White less than 50k\n",
              "32560   22        1  ...    Male less than 50k  White less than 50k\n",
              "\n",
              "[32561 rows x 14 columns]"
            ]
          },
          "metadata": {
            "tags": []
          },
          "execution_count": 32
        }
      ]
    },
    {
      "cell_type": "markdown",
      "metadata": {
        "id": "kQVyu0g834Kx"
      },
      "source": [
        "Analysis of Marital Status"
      ]
    },
    {
      "cell_type": "code",
      "metadata": {
        "id": "5uiUr3-R4FRu"
      },
      "source": [
        "def Maritalstatus (row):\n",
        "   if row['income_map'] + row['marital_map'] == 0 :\n",
        "      return 'Widowed less than 50k'\n",
        "   if row['income_map'] == 1 and row ['marital_map'] == 0:\n",
        "      return 'Widowed more than 50k'\n",
        "   if row['income_map'] == 1 and row ['marital_map'] == 1:\n",
        "      return 'Divorced more than 50k'\n",
        "   if row['income_map'] ==0  and row ['marital_map'] == 1:\n",
        "      return 'Divorced less than 50k'\n",
        "   if row['income_map'] == 1 and row ['marital_map'] == 2:\n",
        "      return 'Separated more than 50k'\n",
        "   if row['income_map'] == 0 and row ['marital_map'] == 2:\n",
        "      return 'Separated less than 50k'\n",
        "   if row['income_map'] == 1 and row ['marital_map'] == 3:\n",
        "      return 'Never-married more than 50k'\n",
        "   if row['income_map'] == 0 and row ['marital_map'] == 3:\n",
        "      return 'Never-married less than 50k'\n",
        "   if row['income_map'] == 1 and row ['marital_map'] == 4:\n",
        "      return 'Married-civ-spouse more than 50k'\n",
        "   if row['income_map'] == 0 and row ['marital_map'] == 4:\n",
        "      return 'Married-civ-spouse less than 50k'\n",
        "   if row['income_map'] == 1 and row ['marital_map'] == 5:\n",
        "      return 'Married-spouse-absent more than 50k'\n",
        "   if row['income_map'] == 0 and row ['marital_map'] == 5:\n",
        "      return 'Married-spouse-absent less than 50k'\n",
        "   if row['income_map'] == 1 and row ['marital_map'] == 6:\n",
        "      return 'Married-AF-spouse more than 50k'\n",
        "   if row['income_map'] == 0 and row ['marital_map'] == 6:\n",
        "      return 'Married-AF-spouse less than 50k'    "
      ],
      "execution_count": 33,
      "outputs": []
    },
    {
      "cell_type": "code",
      "metadata": {
        "colab": {
          "base_uri": "https://localhost:8080/"
        },
        "id": "1sDhKvAf4FRv",
        "outputId": "48e60052-23f9-4912-f68e-7322d9112e88"
      },
      "source": [
        "details.apply (lambda row: Maritalstatus(row), axis=1)"
      ],
      "execution_count": 34,
      "outputs": [
        {
          "output_type": "execute_result",
          "data": {
            "text/plain": [
              "0                   Widowed less than 50k\n",
              "1                   Widowed less than 50k\n",
              "2                   Widowed less than 50k\n",
              "3                  Divorced less than 50k\n",
              "4                 Separated less than 50k\n",
              "                       ...               \n",
              "32556         Never-married less than 50k\n",
              "32557    Married-civ-spouse less than 50k\n",
              "32558    Married-civ-spouse more than 50k\n",
              "32559               Widowed less than 50k\n",
              "32560         Never-married less than 50k\n",
              "Length: 32561, dtype: object"
            ]
          },
          "metadata": {
            "tags": []
          },
          "execution_count": 34
        }
      ]
    },
    {
      "cell_type": "code",
      "metadata": {
        "id": "Ppb7xaWN4FRw"
      },
      "source": [
        "details['MaritalStatusandtheirincome'] = details.apply (lambda row: Maritalstatus(row), axis=1)"
      ],
      "execution_count": 35,
      "outputs": []
    },
    {
      "cell_type": "code",
      "metadata": {
        "colab": {
          "base_uri": "https://localhost:8080/",
          "height": 560
        },
        "id": "yL9PBfRS4FRw",
        "outputId": "c5c98323-8ae3-469e-9603-0881e55a765d"
      },
      "source": [
        "details"
      ],
      "execution_count": 36,
      "outputs": [
        {
          "output_type": "execute_result",
          "data": {
            "text/html": [
              "<div>\n",
              "<style scoped>\n",
              "    .dataframe tbody tr th:only-of-type {\n",
              "        vertical-align: middle;\n",
              "    }\n",
              "\n",
              "    .dataframe tbody tr th {\n",
              "        vertical-align: top;\n",
              "    }\n",
              "\n",
              "    .dataframe thead th {\n",
              "        text-align: right;\n",
              "    }\n",
              "</style>\n",
              "<table border=\"1\" class=\"dataframe\">\n",
              "  <thead>\n",
              "    <tr style=\"text-align: right;\">\n",
              "      <th></th>\n",
              "      <th>age</th>\n",
              "      <th>sex_map</th>\n",
              "      <th>race_map</th>\n",
              "      <th>education_num</th>\n",
              "      <th>work_map</th>\n",
              "      <th>marital_map</th>\n",
              "      <th>rel_map</th>\n",
              "      <th>hours_per_week</th>\n",
              "      <th>capital_gain</th>\n",
              "      <th>capital_loss</th>\n",
              "      <th>fnlwgt</th>\n",
              "      <th>income_map</th>\n",
              "      <th>Sexandtheirincome</th>\n",
              "      <th>Raceandtheirincome</th>\n",
              "      <th>MaritalStatusandtheirincome</th>\n",
              "    </tr>\n",
              "  </thead>\n",
              "  <tbody>\n",
              "    <tr>\n",
              "      <th>0</th>\n",
              "      <td>90</td>\n",
              "      <td>0</td>\n",
              "      <td>0.0</td>\n",
              "      <td>9</td>\n",
              "      <td>0</td>\n",
              "      <td>0</td>\n",
              "      <td>0</td>\n",
              "      <td>40</td>\n",
              "      <td>0</td>\n",
              "      <td>4356</td>\n",
              "      <td>77053</td>\n",
              "      <td>0</td>\n",
              "      <td>Female less than 50k</td>\n",
              "      <td>White less than 50k</td>\n",
              "      <td>Widowed less than 50k</td>\n",
              "    </tr>\n",
              "    <tr>\n",
              "      <th>1</th>\n",
              "      <td>82</td>\n",
              "      <td>0</td>\n",
              "      <td>0.0</td>\n",
              "      <td>9</td>\n",
              "      <td>1</td>\n",
              "      <td>0</td>\n",
              "      <td>0</td>\n",
              "      <td>18</td>\n",
              "      <td>0</td>\n",
              "      <td>4356</td>\n",
              "      <td>132870</td>\n",
              "      <td>0</td>\n",
              "      <td>Female less than 50k</td>\n",
              "      <td>White less than 50k</td>\n",
              "      <td>Widowed less than 50k</td>\n",
              "    </tr>\n",
              "    <tr>\n",
              "      <th>2</th>\n",
              "      <td>66</td>\n",
              "      <td>0</td>\n",
              "      <td>1.0</td>\n",
              "      <td>10</td>\n",
              "      <td>0</td>\n",
              "      <td>0</td>\n",
              "      <td>0</td>\n",
              "      <td>40</td>\n",
              "      <td>0</td>\n",
              "      <td>4356</td>\n",
              "      <td>186061</td>\n",
              "      <td>0</td>\n",
              "      <td>Female less than 50k</td>\n",
              "      <td>Black less than 50k</td>\n",
              "      <td>Widowed less than 50k</td>\n",
              "    </tr>\n",
              "    <tr>\n",
              "      <th>3</th>\n",
              "      <td>54</td>\n",
              "      <td>0</td>\n",
              "      <td>0.0</td>\n",
              "      <td>4</td>\n",
              "      <td>1</td>\n",
              "      <td>1</td>\n",
              "      <td>0</td>\n",
              "      <td>40</td>\n",
              "      <td>0</td>\n",
              "      <td>3900</td>\n",
              "      <td>140359</td>\n",
              "      <td>0</td>\n",
              "      <td>Female less than 50k</td>\n",
              "      <td>White less than 50k</td>\n",
              "      <td>Divorced less than 50k</td>\n",
              "    </tr>\n",
              "    <tr>\n",
              "      <th>4</th>\n",
              "      <td>41</td>\n",
              "      <td>0</td>\n",
              "      <td>0.0</td>\n",
              "      <td>10</td>\n",
              "      <td>1</td>\n",
              "      <td>2</td>\n",
              "      <td>0</td>\n",
              "      <td>40</td>\n",
              "      <td>0</td>\n",
              "      <td>3900</td>\n",
              "      <td>264663</td>\n",
              "      <td>0</td>\n",
              "      <td>Female less than 50k</td>\n",
              "      <td>White less than 50k</td>\n",
              "      <td>Separated less than 50k</td>\n",
              "    </tr>\n",
              "    <tr>\n",
              "      <th>...</th>\n",
              "      <td>...</td>\n",
              "      <td>...</td>\n",
              "      <td>...</td>\n",
              "      <td>...</td>\n",
              "      <td>...</td>\n",
              "      <td>...</td>\n",
              "      <td>...</td>\n",
              "      <td>...</td>\n",
              "      <td>...</td>\n",
              "      <td>...</td>\n",
              "      <td>...</td>\n",
              "      <td>...</td>\n",
              "      <td>...</td>\n",
              "      <td>...</td>\n",
              "      <td>...</td>\n",
              "    </tr>\n",
              "    <tr>\n",
              "      <th>32556</th>\n",
              "      <td>22</td>\n",
              "      <td>1</td>\n",
              "      <td>0.0</td>\n",
              "      <td>10</td>\n",
              "      <td>1</td>\n",
              "      <td>3</td>\n",
              "      <td>0</td>\n",
              "      <td>40</td>\n",
              "      <td>0</td>\n",
              "      <td>0</td>\n",
              "      <td>310152</td>\n",
              "      <td>0</td>\n",
              "      <td>Male less than 50k</td>\n",
              "      <td>White less than 50k</td>\n",
              "      <td>Never-married less than 50k</td>\n",
              "    </tr>\n",
              "    <tr>\n",
              "      <th>32557</th>\n",
              "      <td>27</td>\n",
              "      <td>0</td>\n",
              "      <td>0.0</td>\n",
              "      <td>12</td>\n",
              "      <td>1</td>\n",
              "      <td>4</td>\n",
              "      <td>1</td>\n",
              "      <td>38</td>\n",
              "      <td>0</td>\n",
              "      <td>0</td>\n",
              "      <td>257302</td>\n",
              "      <td>0</td>\n",
              "      <td>Female less than 50k</td>\n",
              "      <td>White less than 50k</td>\n",
              "      <td>Married-civ-spouse less than 50k</td>\n",
              "    </tr>\n",
              "    <tr>\n",
              "      <th>32558</th>\n",
              "      <td>40</td>\n",
              "      <td>1</td>\n",
              "      <td>0.0</td>\n",
              "      <td>9</td>\n",
              "      <td>1</td>\n",
              "      <td>4</td>\n",
              "      <td>1</td>\n",
              "      <td>40</td>\n",
              "      <td>0</td>\n",
              "      <td>0</td>\n",
              "      <td>154374</td>\n",
              "      <td>1</td>\n",
              "      <td>Male more than 50k</td>\n",
              "      <td>White more than 50k</td>\n",
              "      <td>Married-civ-spouse more than 50k</td>\n",
              "    </tr>\n",
              "    <tr>\n",
              "      <th>32559</th>\n",
              "      <td>58</td>\n",
              "      <td>0</td>\n",
              "      <td>0.0</td>\n",
              "      <td>9</td>\n",
              "      <td>1</td>\n",
              "      <td>0</td>\n",
              "      <td>0</td>\n",
              "      <td>40</td>\n",
              "      <td>0</td>\n",
              "      <td>0</td>\n",
              "      <td>151910</td>\n",
              "      <td>0</td>\n",
              "      <td>Female less than 50k</td>\n",
              "      <td>White less than 50k</td>\n",
              "      <td>Widowed less than 50k</td>\n",
              "    </tr>\n",
              "    <tr>\n",
              "      <th>32560</th>\n",
              "      <td>22</td>\n",
              "      <td>1</td>\n",
              "      <td>0.0</td>\n",
              "      <td>9</td>\n",
              "      <td>1</td>\n",
              "      <td>3</td>\n",
              "      <td>0</td>\n",
              "      <td>20</td>\n",
              "      <td>0</td>\n",
              "      <td>0</td>\n",
              "      <td>201490</td>\n",
              "      <td>0</td>\n",
              "      <td>Male less than 50k</td>\n",
              "      <td>White less than 50k</td>\n",
              "      <td>Never-married less than 50k</td>\n",
              "    </tr>\n",
              "  </tbody>\n",
              "</table>\n",
              "<p>32561 rows × 15 columns</p>\n",
              "</div>"
            ],
            "text/plain": [
              "       age  sex_map  ...   Raceandtheirincome       MaritalStatusandtheirincome\n",
              "0       90        0  ...  White less than 50k             Widowed less than 50k\n",
              "1       82        0  ...  White less than 50k             Widowed less than 50k\n",
              "2       66        0  ...  Black less than 50k             Widowed less than 50k\n",
              "3       54        0  ...  White less than 50k            Divorced less than 50k\n",
              "4       41        0  ...  White less than 50k           Separated less than 50k\n",
              "...    ...      ...  ...                  ...                               ...\n",
              "32556   22        1  ...  White less than 50k       Never-married less than 50k\n",
              "32557   27        0  ...  White less than 50k  Married-civ-spouse less than 50k\n",
              "32558   40        1  ...  White more than 50k  Married-civ-spouse more than 50k\n",
              "32559   58        0  ...  White less than 50k             Widowed less than 50k\n",
              "32560   22        1  ...  White less than 50k       Never-married less than 50k\n",
              "\n",
              "[32561 rows x 15 columns]"
            ]
          },
          "metadata": {
            "tags": []
          },
          "execution_count": 36
        }
      ]
    },
    {
      "cell_type": "markdown",
      "metadata": {
        "id": "fHHdmYf06YGu"
      },
      "source": [
        "Analysis of Relationship Status"
      ]
    },
    {
      "cell_type": "code",
      "metadata": {
        "id": "u8lhIYCC6YGx"
      },
      "source": [
        "def Relationship (row):\n",
        "   if row['income_map'] == 0 and row['rel_map'] == 0 :\n",
        "      return 'NoFamily/Unmarried/OwnChild/OtherRelative less than 50k'\n",
        "   if row['income_map'] == 1 and row ['rel_map'] == 0:\n",
        "      return 'NoFamily/Unmarried/OwnChild/OtherRelative more than 50k'\n",
        "   if row['income_map'] == 1 and row ['rel_map'] == 1:\n",
        "      return 'Husband/wife more than 50k'\n",
        "   if row['income_map'] ==0  and row ['rel_map'] == 1:\n",
        "      return 'Husband/Wife less than 50k'"
      ],
      "execution_count": 37,
      "outputs": []
    },
    {
      "cell_type": "code",
      "metadata": {
        "colab": {
          "base_uri": "https://localhost:8080/"
        },
        "id": "Z22gtqVj6YGy",
        "outputId": "cc8eb160-7b75-447c-a32d-9ebc1238b560"
      },
      "source": [
        "details.apply (lambda row: Relationship(row), axis=1)"
      ],
      "execution_count": 38,
      "outputs": [
        {
          "output_type": "execute_result",
          "data": {
            "text/plain": [
              "0        NoFamily/Unmarried/OwnChild/OtherRelative less...\n",
              "1        NoFamily/Unmarried/OwnChild/OtherRelative less...\n",
              "2        NoFamily/Unmarried/OwnChild/OtherRelative less...\n",
              "3        NoFamily/Unmarried/OwnChild/OtherRelative less...\n",
              "4        NoFamily/Unmarried/OwnChild/OtherRelative less...\n",
              "                               ...                        \n",
              "32556    NoFamily/Unmarried/OwnChild/OtherRelative less...\n",
              "32557                           Husband/Wife less than 50k\n",
              "32558                           Husband/wife more than 50k\n",
              "32559    NoFamily/Unmarried/OwnChild/OtherRelative less...\n",
              "32560    NoFamily/Unmarried/OwnChild/OtherRelative less...\n",
              "Length: 32561, dtype: object"
            ]
          },
          "metadata": {
            "tags": []
          },
          "execution_count": 38
        }
      ]
    },
    {
      "cell_type": "code",
      "metadata": {
        "id": "EqX6MqY16YG0"
      },
      "source": [
        "details['RelationshipStatusandtheirincome'] = details.apply (lambda row: Relationship(row), axis=1)"
      ],
      "execution_count": 39,
      "outputs": []
    },
    {
      "cell_type": "code",
      "metadata": {
        "colab": {
          "base_uri": "https://localhost:8080/",
          "height": 593
        },
        "id": "vkhBx13s6YG0",
        "outputId": "197176b2-7e81-4248-ae1c-abd79d2ab616"
      },
      "source": [
        "details"
      ],
      "execution_count": 40,
      "outputs": [
        {
          "output_type": "execute_result",
          "data": {
            "text/html": [
              "<div>\n",
              "<style scoped>\n",
              "    .dataframe tbody tr th:only-of-type {\n",
              "        vertical-align: middle;\n",
              "    }\n",
              "\n",
              "    .dataframe tbody tr th {\n",
              "        vertical-align: top;\n",
              "    }\n",
              "\n",
              "    .dataframe thead th {\n",
              "        text-align: right;\n",
              "    }\n",
              "</style>\n",
              "<table border=\"1\" class=\"dataframe\">\n",
              "  <thead>\n",
              "    <tr style=\"text-align: right;\">\n",
              "      <th></th>\n",
              "      <th>age</th>\n",
              "      <th>sex_map</th>\n",
              "      <th>race_map</th>\n",
              "      <th>education_num</th>\n",
              "      <th>work_map</th>\n",
              "      <th>marital_map</th>\n",
              "      <th>rel_map</th>\n",
              "      <th>hours_per_week</th>\n",
              "      <th>capital_gain</th>\n",
              "      <th>capital_loss</th>\n",
              "      <th>fnlwgt</th>\n",
              "      <th>income_map</th>\n",
              "      <th>Sexandtheirincome</th>\n",
              "      <th>Raceandtheirincome</th>\n",
              "      <th>MaritalStatusandtheirincome</th>\n",
              "      <th>RelationshipStatusandtheirincome</th>\n",
              "    </tr>\n",
              "  </thead>\n",
              "  <tbody>\n",
              "    <tr>\n",
              "      <th>0</th>\n",
              "      <td>90</td>\n",
              "      <td>0</td>\n",
              "      <td>0.0</td>\n",
              "      <td>9</td>\n",
              "      <td>0</td>\n",
              "      <td>0</td>\n",
              "      <td>0</td>\n",
              "      <td>40</td>\n",
              "      <td>0</td>\n",
              "      <td>4356</td>\n",
              "      <td>77053</td>\n",
              "      <td>0</td>\n",
              "      <td>Female less than 50k</td>\n",
              "      <td>White less than 50k</td>\n",
              "      <td>Widowed less than 50k</td>\n",
              "      <td>NoFamily/Unmarried/OwnChild/OtherRelative less...</td>\n",
              "    </tr>\n",
              "    <tr>\n",
              "      <th>1</th>\n",
              "      <td>82</td>\n",
              "      <td>0</td>\n",
              "      <td>0.0</td>\n",
              "      <td>9</td>\n",
              "      <td>1</td>\n",
              "      <td>0</td>\n",
              "      <td>0</td>\n",
              "      <td>18</td>\n",
              "      <td>0</td>\n",
              "      <td>4356</td>\n",
              "      <td>132870</td>\n",
              "      <td>0</td>\n",
              "      <td>Female less than 50k</td>\n",
              "      <td>White less than 50k</td>\n",
              "      <td>Widowed less than 50k</td>\n",
              "      <td>NoFamily/Unmarried/OwnChild/OtherRelative less...</td>\n",
              "    </tr>\n",
              "    <tr>\n",
              "      <th>2</th>\n",
              "      <td>66</td>\n",
              "      <td>0</td>\n",
              "      <td>1.0</td>\n",
              "      <td>10</td>\n",
              "      <td>0</td>\n",
              "      <td>0</td>\n",
              "      <td>0</td>\n",
              "      <td>40</td>\n",
              "      <td>0</td>\n",
              "      <td>4356</td>\n",
              "      <td>186061</td>\n",
              "      <td>0</td>\n",
              "      <td>Female less than 50k</td>\n",
              "      <td>Black less than 50k</td>\n",
              "      <td>Widowed less than 50k</td>\n",
              "      <td>NoFamily/Unmarried/OwnChild/OtherRelative less...</td>\n",
              "    </tr>\n",
              "    <tr>\n",
              "      <th>3</th>\n",
              "      <td>54</td>\n",
              "      <td>0</td>\n",
              "      <td>0.0</td>\n",
              "      <td>4</td>\n",
              "      <td>1</td>\n",
              "      <td>1</td>\n",
              "      <td>0</td>\n",
              "      <td>40</td>\n",
              "      <td>0</td>\n",
              "      <td>3900</td>\n",
              "      <td>140359</td>\n",
              "      <td>0</td>\n",
              "      <td>Female less than 50k</td>\n",
              "      <td>White less than 50k</td>\n",
              "      <td>Divorced less than 50k</td>\n",
              "      <td>NoFamily/Unmarried/OwnChild/OtherRelative less...</td>\n",
              "    </tr>\n",
              "    <tr>\n",
              "      <th>4</th>\n",
              "      <td>41</td>\n",
              "      <td>0</td>\n",
              "      <td>0.0</td>\n",
              "      <td>10</td>\n",
              "      <td>1</td>\n",
              "      <td>2</td>\n",
              "      <td>0</td>\n",
              "      <td>40</td>\n",
              "      <td>0</td>\n",
              "      <td>3900</td>\n",
              "      <td>264663</td>\n",
              "      <td>0</td>\n",
              "      <td>Female less than 50k</td>\n",
              "      <td>White less than 50k</td>\n",
              "      <td>Separated less than 50k</td>\n",
              "      <td>NoFamily/Unmarried/OwnChild/OtherRelative less...</td>\n",
              "    </tr>\n",
              "    <tr>\n",
              "      <th>...</th>\n",
              "      <td>...</td>\n",
              "      <td>...</td>\n",
              "      <td>...</td>\n",
              "      <td>...</td>\n",
              "      <td>...</td>\n",
              "      <td>...</td>\n",
              "      <td>...</td>\n",
              "      <td>...</td>\n",
              "      <td>...</td>\n",
              "      <td>...</td>\n",
              "      <td>...</td>\n",
              "      <td>...</td>\n",
              "      <td>...</td>\n",
              "      <td>...</td>\n",
              "      <td>...</td>\n",
              "      <td>...</td>\n",
              "    </tr>\n",
              "    <tr>\n",
              "      <th>32556</th>\n",
              "      <td>22</td>\n",
              "      <td>1</td>\n",
              "      <td>0.0</td>\n",
              "      <td>10</td>\n",
              "      <td>1</td>\n",
              "      <td>3</td>\n",
              "      <td>0</td>\n",
              "      <td>40</td>\n",
              "      <td>0</td>\n",
              "      <td>0</td>\n",
              "      <td>310152</td>\n",
              "      <td>0</td>\n",
              "      <td>Male less than 50k</td>\n",
              "      <td>White less than 50k</td>\n",
              "      <td>Never-married less than 50k</td>\n",
              "      <td>NoFamily/Unmarried/OwnChild/OtherRelative less...</td>\n",
              "    </tr>\n",
              "    <tr>\n",
              "      <th>32557</th>\n",
              "      <td>27</td>\n",
              "      <td>0</td>\n",
              "      <td>0.0</td>\n",
              "      <td>12</td>\n",
              "      <td>1</td>\n",
              "      <td>4</td>\n",
              "      <td>1</td>\n",
              "      <td>38</td>\n",
              "      <td>0</td>\n",
              "      <td>0</td>\n",
              "      <td>257302</td>\n",
              "      <td>0</td>\n",
              "      <td>Female less than 50k</td>\n",
              "      <td>White less than 50k</td>\n",
              "      <td>Married-civ-spouse less than 50k</td>\n",
              "      <td>Husband/Wife less than 50k</td>\n",
              "    </tr>\n",
              "    <tr>\n",
              "      <th>32558</th>\n",
              "      <td>40</td>\n",
              "      <td>1</td>\n",
              "      <td>0.0</td>\n",
              "      <td>9</td>\n",
              "      <td>1</td>\n",
              "      <td>4</td>\n",
              "      <td>1</td>\n",
              "      <td>40</td>\n",
              "      <td>0</td>\n",
              "      <td>0</td>\n",
              "      <td>154374</td>\n",
              "      <td>1</td>\n",
              "      <td>Male more than 50k</td>\n",
              "      <td>White more than 50k</td>\n",
              "      <td>Married-civ-spouse more than 50k</td>\n",
              "      <td>Husband/wife more than 50k</td>\n",
              "    </tr>\n",
              "    <tr>\n",
              "      <th>32559</th>\n",
              "      <td>58</td>\n",
              "      <td>0</td>\n",
              "      <td>0.0</td>\n",
              "      <td>9</td>\n",
              "      <td>1</td>\n",
              "      <td>0</td>\n",
              "      <td>0</td>\n",
              "      <td>40</td>\n",
              "      <td>0</td>\n",
              "      <td>0</td>\n",
              "      <td>151910</td>\n",
              "      <td>0</td>\n",
              "      <td>Female less than 50k</td>\n",
              "      <td>White less than 50k</td>\n",
              "      <td>Widowed less than 50k</td>\n",
              "      <td>NoFamily/Unmarried/OwnChild/OtherRelative less...</td>\n",
              "    </tr>\n",
              "    <tr>\n",
              "      <th>32560</th>\n",
              "      <td>22</td>\n",
              "      <td>1</td>\n",
              "      <td>0.0</td>\n",
              "      <td>9</td>\n",
              "      <td>1</td>\n",
              "      <td>3</td>\n",
              "      <td>0</td>\n",
              "      <td>20</td>\n",
              "      <td>0</td>\n",
              "      <td>0</td>\n",
              "      <td>201490</td>\n",
              "      <td>0</td>\n",
              "      <td>Male less than 50k</td>\n",
              "      <td>White less than 50k</td>\n",
              "      <td>Never-married less than 50k</td>\n",
              "      <td>NoFamily/Unmarried/OwnChild/OtherRelative less...</td>\n",
              "    </tr>\n",
              "  </tbody>\n",
              "</table>\n",
              "<p>32561 rows × 16 columns</p>\n",
              "</div>"
            ],
            "text/plain": [
              "       age  ...                   RelationshipStatusandtheirincome\n",
              "0       90  ...  NoFamily/Unmarried/OwnChild/OtherRelative less...\n",
              "1       82  ...  NoFamily/Unmarried/OwnChild/OtherRelative less...\n",
              "2       66  ...  NoFamily/Unmarried/OwnChild/OtherRelative less...\n",
              "3       54  ...  NoFamily/Unmarried/OwnChild/OtherRelative less...\n",
              "4       41  ...  NoFamily/Unmarried/OwnChild/OtherRelative less...\n",
              "...    ...  ...                                                ...\n",
              "32556   22  ...  NoFamily/Unmarried/OwnChild/OtherRelative less...\n",
              "32557   27  ...                         Husband/Wife less than 50k\n",
              "32558   40  ...                         Husband/wife more than 50k\n",
              "32559   58  ...  NoFamily/Unmarried/OwnChild/OtherRelative less...\n",
              "32560   22  ...  NoFamily/Unmarried/OwnChild/OtherRelative less...\n",
              "\n",
              "[32561 rows x 16 columns]"
            ]
          },
          "metadata": {
            "tags": []
          },
          "execution_count": 40
        }
      ]
    },
    {
      "cell_type": "markdown",
      "metadata": {
        "id": "WdR6yJ-k9hOb"
      },
      "source": [
        "Analysis of Work Status"
      ]
    },
    {
      "cell_type": "code",
      "metadata": {
        "id": "3eYKXoPk9hOd"
      },
      "source": [
        "def Workstatus (row):\n",
        "   if row['income_map'] == 0 and row['work_map'] == 0 :\n",
        "      return '? less than 50k'\n",
        "   if row['income_map'] == 1 and row ['work_map'] == 0:\n",
        "      return '? more than 50k'\n",
        "   if row['income_map'] == 1 and row ['work_map'] == 1:\n",
        "      return 'Private more than 50k'\n",
        "   if row['income_map'] ==0  and row ['work_map'] == 1:\n",
        "      return 'Private less than 50k'\n",
        "   if row['income_map'] == 1 and row ['work_map'] == 2:\n",
        "      return 'State Gov more than 50k'\n",
        "   if row['income_map'] == 0 and row ['work_map'] == 2:\n",
        "      return 'State Gov less than 50k'\n",
        "   if row['income_map'] == 1 and row ['work_map'] == 3:\n",
        "      return 'Federal Gov more than 50k'\n",
        "   if row['income_map'] == 0 and row ['work_map'] == 3:\n",
        "      return 'federal Gov less than 50k'\n",
        "   if row['income_map'] == 1 and row ['work_map'] == 4:\n",
        "      return 'Self emp not inc more than 50k'\n",
        "   if row['income_map'] == 0 and row ['work_map'] == 4:\n",
        "      return 'Self emp not inc less than 50k'\n",
        "   if row['income_map'] == 1 and row ['work_map'] == 5:\n",
        "      return 'Self emp inc more than 50k'\n",
        "   if row['income_map'] == 0 and row ['work_map'] == 5:\n",
        "      return 'Self emp inc less than 50k'\n",
        "   if row['income_map'] == 1 and row ['work_map'] == 6:\n",
        "      return 'Local gov more than 50k'\n",
        "   if row['income_map'] == 0 and row ['work_map'] == 6:\n",
        "      return 'Local gov less than 50k'\n",
        "   if row['income_map'] == 1 and row ['work_map'] == 7:\n",
        "      return 'Without pay more than 50k'\n",
        "   if row['income_map'] == 0 and row ['work_map'] == 7:\n",
        "      return 'Without pay less than 50k'\n",
        "   if row['income_map'] == 1 and row ['work_map'] == 8:\n",
        "      return 'Never Worked more than 50k'    \n",
        "   if row['income_map'] == 0 and row ['work_map'] == 8:\n",
        "      return 'Never Worked less than 50k'   "
      ],
      "execution_count": 41,
      "outputs": []
    },
    {
      "cell_type": "code",
      "metadata": {
        "colab": {
          "base_uri": "https://localhost:8080/"
        },
        "id": "j7B8Gopz9hOg",
        "outputId": "e9229610-e345-430b-8d3f-347acb183d83"
      },
      "source": [
        "details.apply (lambda row: Workstatus(row), axis=1)"
      ],
      "execution_count": 42,
      "outputs": [
        {
          "output_type": "execute_result",
          "data": {
            "text/plain": [
              "0              ? less than 50k\n",
              "1        Private less than 50k\n",
              "2              ? less than 50k\n",
              "3        Private less than 50k\n",
              "4        Private less than 50k\n",
              "                 ...          \n",
              "32556    Private less than 50k\n",
              "32557    Private less than 50k\n",
              "32558    Private more than 50k\n",
              "32559    Private less than 50k\n",
              "32560    Private less than 50k\n",
              "Length: 32561, dtype: object"
            ]
          },
          "metadata": {
            "tags": []
          },
          "execution_count": 42
        }
      ]
    },
    {
      "cell_type": "code",
      "metadata": {
        "id": "dlV72PZG9hOi"
      },
      "source": [
        "details['WorkStatusandtheirincome'] = details.apply (lambda row: Workstatus(row), axis=1)"
      ],
      "execution_count": 43,
      "outputs": []
    },
    {
      "cell_type": "code",
      "metadata": {
        "colab": {
          "base_uri": "https://localhost:8080/",
          "height": 593
        },
        "id": "2ChpWAxm_wOb",
        "outputId": "99133a08-43d2-4b8d-ddb3-2fb966d3775d"
      },
      "source": [
        "details"
      ],
      "execution_count": 44,
      "outputs": [
        {
          "output_type": "execute_result",
          "data": {
            "text/html": [
              "<div>\n",
              "<style scoped>\n",
              "    .dataframe tbody tr th:only-of-type {\n",
              "        vertical-align: middle;\n",
              "    }\n",
              "\n",
              "    .dataframe tbody tr th {\n",
              "        vertical-align: top;\n",
              "    }\n",
              "\n",
              "    .dataframe thead th {\n",
              "        text-align: right;\n",
              "    }\n",
              "</style>\n",
              "<table border=\"1\" class=\"dataframe\">\n",
              "  <thead>\n",
              "    <tr style=\"text-align: right;\">\n",
              "      <th></th>\n",
              "      <th>age</th>\n",
              "      <th>sex_map</th>\n",
              "      <th>race_map</th>\n",
              "      <th>education_num</th>\n",
              "      <th>work_map</th>\n",
              "      <th>marital_map</th>\n",
              "      <th>rel_map</th>\n",
              "      <th>hours_per_week</th>\n",
              "      <th>capital_gain</th>\n",
              "      <th>capital_loss</th>\n",
              "      <th>fnlwgt</th>\n",
              "      <th>income_map</th>\n",
              "      <th>Sexandtheirincome</th>\n",
              "      <th>Raceandtheirincome</th>\n",
              "      <th>MaritalStatusandtheirincome</th>\n",
              "      <th>RelationshipStatusandtheirincome</th>\n",
              "      <th>WorkStatusandtheirincome</th>\n",
              "    </tr>\n",
              "  </thead>\n",
              "  <tbody>\n",
              "    <tr>\n",
              "      <th>0</th>\n",
              "      <td>90</td>\n",
              "      <td>0</td>\n",
              "      <td>0.0</td>\n",
              "      <td>9</td>\n",
              "      <td>0</td>\n",
              "      <td>0</td>\n",
              "      <td>0</td>\n",
              "      <td>40</td>\n",
              "      <td>0</td>\n",
              "      <td>4356</td>\n",
              "      <td>77053</td>\n",
              "      <td>0</td>\n",
              "      <td>Female less than 50k</td>\n",
              "      <td>White less than 50k</td>\n",
              "      <td>Widowed less than 50k</td>\n",
              "      <td>NoFamily/Unmarried/OwnChild/OtherRelative less...</td>\n",
              "      <td>? less than 50k</td>\n",
              "    </tr>\n",
              "    <tr>\n",
              "      <th>1</th>\n",
              "      <td>82</td>\n",
              "      <td>0</td>\n",
              "      <td>0.0</td>\n",
              "      <td>9</td>\n",
              "      <td>1</td>\n",
              "      <td>0</td>\n",
              "      <td>0</td>\n",
              "      <td>18</td>\n",
              "      <td>0</td>\n",
              "      <td>4356</td>\n",
              "      <td>132870</td>\n",
              "      <td>0</td>\n",
              "      <td>Female less than 50k</td>\n",
              "      <td>White less than 50k</td>\n",
              "      <td>Widowed less than 50k</td>\n",
              "      <td>NoFamily/Unmarried/OwnChild/OtherRelative less...</td>\n",
              "      <td>Private less than 50k</td>\n",
              "    </tr>\n",
              "    <tr>\n",
              "      <th>2</th>\n",
              "      <td>66</td>\n",
              "      <td>0</td>\n",
              "      <td>1.0</td>\n",
              "      <td>10</td>\n",
              "      <td>0</td>\n",
              "      <td>0</td>\n",
              "      <td>0</td>\n",
              "      <td>40</td>\n",
              "      <td>0</td>\n",
              "      <td>4356</td>\n",
              "      <td>186061</td>\n",
              "      <td>0</td>\n",
              "      <td>Female less than 50k</td>\n",
              "      <td>Black less than 50k</td>\n",
              "      <td>Widowed less than 50k</td>\n",
              "      <td>NoFamily/Unmarried/OwnChild/OtherRelative less...</td>\n",
              "      <td>? less than 50k</td>\n",
              "    </tr>\n",
              "    <tr>\n",
              "      <th>3</th>\n",
              "      <td>54</td>\n",
              "      <td>0</td>\n",
              "      <td>0.0</td>\n",
              "      <td>4</td>\n",
              "      <td>1</td>\n",
              "      <td>1</td>\n",
              "      <td>0</td>\n",
              "      <td>40</td>\n",
              "      <td>0</td>\n",
              "      <td>3900</td>\n",
              "      <td>140359</td>\n",
              "      <td>0</td>\n",
              "      <td>Female less than 50k</td>\n",
              "      <td>White less than 50k</td>\n",
              "      <td>Divorced less than 50k</td>\n",
              "      <td>NoFamily/Unmarried/OwnChild/OtherRelative less...</td>\n",
              "      <td>Private less than 50k</td>\n",
              "    </tr>\n",
              "    <tr>\n",
              "      <th>4</th>\n",
              "      <td>41</td>\n",
              "      <td>0</td>\n",
              "      <td>0.0</td>\n",
              "      <td>10</td>\n",
              "      <td>1</td>\n",
              "      <td>2</td>\n",
              "      <td>0</td>\n",
              "      <td>40</td>\n",
              "      <td>0</td>\n",
              "      <td>3900</td>\n",
              "      <td>264663</td>\n",
              "      <td>0</td>\n",
              "      <td>Female less than 50k</td>\n",
              "      <td>White less than 50k</td>\n",
              "      <td>Separated less than 50k</td>\n",
              "      <td>NoFamily/Unmarried/OwnChild/OtherRelative less...</td>\n",
              "      <td>Private less than 50k</td>\n",
              "    </tr>\n",
              "    <tr>\n",
              "      <th>...</th>\n",
              "      <td>...</td>\n",
              "      <td>...</td>\n",
              "      <td>...</td>\n",
              "      <td>...</td>\n",
              "      <td>...</td>\n",
              "      <td>...</td>\n",
              "      <td>...</td>\n",
              "      <td>...</td>\n",
              "      <td>...</td>\n",
              "      <td>...</td>\n",
              "      <td>...</td>\n",
              "      <td>...</td>\n",
              "      <td>...</td>\n",
              "      <td>...</td>\n",
              "      <td>...</td>\n",
              "      <td>...</td>\n",
              "      <td>...</td>\n",
              "    </tr>\n",
              "    <tr>\n",
              "      <th>32556</th>\n",
              "      <td>22</td>\n",
              "      <td>1</td>\n",
              "      <td>0.0</td>\n",
              "      <td>10</td>\n",
              "      <td>1</td>\n",
              "      <td>3</td>\n",
              "      <td>0</td>\n",
              "      <td>40</td>\n",
              "      <td>0</td>\n",
              "      <td>0</td>\n",
              "      <td>310152</td>\n",
              "      <td>0</td>\n",
              "      <td>Male less than 50k</td>\n",
              "      <td>White less than 50k</td>\n",
              "      <td>Never-married less than 50k</td>\n",
              "      <td>NoFamily/Unmarried/OwnChild/OtherRelative less...</td>\n",
              "      <td>Private less than 50k</td>\n",
              "    </tr>\n",
              "    <tr>\n",
              "      <th>32557</th>\n",
              "      <td>27</td>\n",
              "      <td>0</td>\n",
              "      <td>0.0</td>\n",
              "      <td>12</td>\n",
              "      <td>1</td>\n",
              "      <td>4</td>\n",
              "      <td>1</td>\n",
              "      <td>38</td>\n",
              "      <td>0</td>\n",
              "      <td>0</td>\n",
              "      <td>257302</td>\n",
              "      <td>0</td>\n",
              "      <td>Female less than 50k</td>\n",
              "      <td>White less than 50k</td>\n",
              "      <td>Married-civ-spouse less than 50k</td>\n",
              "      <td>Husband/Wife less than 50k</td>\n",
              "      <td>Private less than 50k</td>\n",
              "    </tr>\n",
              "    <tr>\n",
              "      <th>32558</th>\n",
              "      <td>40</td>\n",
              "      <td>1</td>\n",
              "      <td>0.0</td>\n",
              "      <td>9</td>\n",
              "      <td>1</td>\n",
              "      <td>4</td>\n",
              "      <td>1</td>\n",
              "      <td>40</td>\n",
              "      <td>0</td>\n",
              "      <td>0</td>\n",
              "      <td>154374</td>\n",
              "      <td>1</td>\n",
              "      <td>Male more than 50k</td>\n",
              "      <td>White more than 50k</td>\n",
              "      <td>Married-civ-spouse more than 50k</td>\n",
              "      <td>Husband/wife more than 50k</td>\n",
              "      <td>Private more than 50k</td>\n",
              "    </tr>\n",
              "    <tr>\n",
              "      <th>32559</th>\n",
              "      <td>58</td>\n",
              "      <td>0</td>\n",
              "      <td>0.0</td>\n",
              "      <td>9</td>\n",
              "      <td>1</td>\n",
              "      <td>0</td>\n",
              "      <td>0</td>\n",
              "      <td>40</td>\n",
              "      <td>0</td>\n",
              "      <td>0</td>\n",
              "      <td>151910</td>\n",
              "      <td>0</td>\n",
              "      <td>Female less than 50k</td>\n",
              "      <td>White less than 50k</td>\n",
              "      <td>Widowed less than 50k</td>\n",
              "      <td>NoFamily/Unmarried/OwnChild/OtherRelative less...</td>\n",
              "      <td>Private less than 50k</td>\n",
              "    </tr>\n",
              "    <tr>\n",
              "      <th>32560</th>\n",
              "      <td>22</td>\n",
              "      <td>1</td>\n",
              "      <td>0.0</td>\n",
              "      <td>9</td>\n",
              "      <td>1</td>\n",
              "      <td>3</td>\n",
              "      <td>0</td>\n",
              "      <td>20</td>\n",
              "      <td>0</td>\n",
              "      <td>0</td>\n",
              "      <td>201490</td>\n",
              "      <td>0</td>\n",
              "      <td>Male less than 50k</td>\n",
              "      <td>White less than 50k</td>\n",
              "      <td>Never-married less than 50k</td>\n",
              "      <td>NoFamily/Unmarried/OwnChild/OtherRelative less...</td>\n",
              "      <td>Private less than 50k</td>\n",
              "    </tr>\n",
              "  </tbody>\n",
              "</table>\n",
              "<p>32561 rows × 17 columns</p>\n",
              "</div>"
            ],
            "text/plain": [
              "       age  ...  WorkStatusandtheirincome\n",
              "0       90  ...           ? less than 50k\n",
              "1       82  ...     Private less than 50k\n",
              "2       66  ...           ? less than 50k\n",
              "3       54  ...     Private less than 50k\n",
              "4       41  ...     Private less than 50k\n",
              "...    ...  ...                       ...\n",
              "32556   22  ...     Private less than 50k\n",
              "32557   27  ...     Private less than 50k\n",
              "32558   40  ...     Private more than 50k\n",
              "32559   58  ...     Private less than 50k\n",
              "32560   22  ...     Private less than 50k\n",
              "\n",
              "[32561 rows x 17 columns]"
            ]
          },
          "metadata": {
            "tags": []
          },
          "execution_count": 44
        }
      ]
    },
    {
      "cell_type": "markdown",
      "metadata": {
        "id": "j7FjztDNB3o6"
      },
      "source": [
        "Understanding the impact of Sex"
      ]
    },
    {
      "cell_type": "code",
      "metadata": {
        "colab": {
          "base_uri": "https://localhost:8080/"
        },
        "id": "uO9RmRKSBSVb",
        "outputId": "829caf52-d7e9-4df4-9a48-9ffd1efc6793"
      },
      "source": [
        "while True:\n",
        "    try:\n",
        "        print('Press 1 for the Number of female')\n",
        "        print('Press 2 for the Number of Male')\n",
        "        print('Press 3 for the Number of Male earning less than $50,000')\n",
        "        print('Press 4 for the Number of Male earning more than $50,000')\n",
        "        print('Press 5 for the Number of female earning less than $50,000')        \n",
        "        print('Press 6 for the Number of female earning more than $50,000')\n",
        "        A=int(input())\n",
        "    except ValueError:\n",
        "        print(\"Sorry i didn't understand that\\n\")\n",
        "        continue\n",
        "    else:\n",
        "        break\n",
        "if A == 1:\n",
        "  s=len(details[details.sex_map ==0])\n",
        "  s1=(s/32561)*100\n",
        "  print('Number of Female out of 32561 people: {}'.format((s)))  \n",
        "  print('{}% of females earning more than $50000 out of 32561 people'.format(s1))\n",
        "elif A == 2:\n",
        "  s=len(details[details.sex_map ==1])\n",
        "  s1=(s/32561)*100\n",
        "  print('Number of male out of 32561 people: {}'.format((s)))  \n",
        "  print('{}% of males earning more than $50000 out of 32561 people'.format(s1))\n",
        "elif A == 3:\n",
        "  s=len(details[details.Sexandtheirincome =='Male less than 50k'])\n",
        "  s1=(s/32561)*100\n",
        "  print('Number of male earning less than $50,000 out of 32561 people: {}'.format((s)))  \n",
        "  print('{}% of males earning less than $50000 out of 32561 people'.format(s1))\n",
        "elif A == 4:\n",
        "  s=len(details[details.Sexandtheirincome =='Male more than 50k'])\n",
        "  s1=(s/32561)*100\n",
        "  print('Number of Male earning more than $50,000 out of 32561 people: {}'.format((s)))  \n",
        "  print('{}% of Males earning more than $50000 out of 32561 people'.format(s1))\n",
        "elif A == 5:\n",
        "  s=len(details[details.Sexandtheirincome =='Female more than 50k'])\n",
        "  s1=(s/32561)*100\n",
        "  print('Number of female earning more than $50,000 out of 32561 people: {}'.format((s)))  \n",
        "  print('{}% of females earning more than $50000 out of 32561 people'.format(s1))\n",
        "elif A == 6:\n",
        "  s=len(details[details.Sexandtheirincome =='Female less than 50k'])\n",
        "  s1=(s/32561)*100\n",
        "  print('Number of female earning less than $50,000 out of 32561 people: {}'.format((s)))  \n",
        "  print('{}% of females earning less than $50000 out of 32561 people'.format(s1))\n",
        "else :\n",
        "  print('Wrong input')"
      ],
      "execution_count": 45,
      "outputs": [
        {
          "output_type": "stream",
          "text": [
            "Press 1 for the Number of female\n",
            "Press 2 for the Number of Male\n",
            "Press 3 for the Number of Male earning less than $50,000\n",
            "Press 4 for the Number of Male earning more than $50,000\n",
            "Press 5 for the Number of female earning less than $50,000\n",
            "Press 6 for the Number of female earning more than $50,000\n",
            "1\n",
            "Number of Female out of 32561 people: 10771\n",
            "33.07945087681583% of females earning more than $50000 out of 32561 people\n"
          ],
          "name": "stdout"
        }
      ]
    },
    {
      "cell_type": "markdown",
      "metadata": {
        "id": "r3Ywx7XZLmtL"
      },
      "source": [
        "Understanding the impact of Race"
      ]
    },
    {
      "cell_type": "code",
      "metadata": {
        "colab": {
          "base_uri": "https://localhost:8080/"
        },
        "id": "8QUPFKTuLjcZ",
        "outputId": "5fd0e94b-f87a-4a90-aff4-a21d3759ed17"
      },
      "source": [
        "while True:\n",
        "    try:\n",
        "        print('Press 1 for the Number of white people')\n",
        "        print('Press 2 for the Number of black people')\n",
        "        print('Press 3 for the Number of Asia-pacific people')\n",
        "        print('Press 4 for the Number of Amer-Indian people')\n",
        "        print('Press 5 for the Number of White earning less than $50,000')\n",
        "        print('Press 6 for the Number of White earning more than $50,000')\n",
        "        print('Press 7 for the Number of Black earning less than $50,000')\n",
        "        print('Press 8 for the Number of Black earning less than $50,000')\n",
        "        print('Press 9 for the Number of Asia-pacific earning less than $50,000')\n",
        "        print('Press 10 for the Number of Asia-pacific earning less than $50,000')\n",
        "        print('Press 11 for the Number of Amer-Indian earning less than $50,000')        \n",
        "        print('Press 12 for the Number of Amer-Indian earning more than $50,000')\n",
        "        A=int(input())\n",
        "    except ValueError:\n",
        "        print(\"Sorry i didn't understand that\\n\")\n",
        "        continue\n",
        "    else:\n",
        "        break\n",
        "if A == 1:\n",
        "  s=len(details[details.race_map ==0])\n",
        "  s1=(s/32561)*100\n",
        "  print('Number of White out of 32561 people: {}'.format((s)))  \n",
        "  print('{}% of White out of 32561 people'.format(s1))\n",
        "elif A == 2:\n",
        "  s=len(details[details.race_map ==1])\n",
        "  s1=(s/32561)*100\n",
        "  print('Number of Black out of 32561 people: {}'.format((s)))  \n",
        "  print('{}% of Black out of 32561 people'.format(s1))\n",
        "elif A == 3:\n",
        "  s=len(details[details.race_map ==2])\n",
        "  s1=(s/32561)*100\n",
        "  print('Number of Asia-pacific out of 32561 people: {}'.format((s)))  \n",
        "  print('{}% of Asia-pacific out of 32561 people'.format(s1))\n",
        "elif A == 4:\n",
        "  s=len(details[details.race_map ==3])\n",
        "  s1=(s/32561)*100\n",
        "  print('Number of Amer-Indian out of 32561 people: {}'.format((s)))  \n",
        "  print('{}% of Amer-Indian out of 32561 people'.format(s1))\n",
        "elif A == 5:\n",
        "  s=len(details[details.Raceandtheirincome =='White more than 50k'])\n",
        "  s1=(s/32561)*100\n",
        "  print('Number of white earning more than $50,000 out of 32561 people: {}'.format((s)))  \n",
        "  print('{}% of White earning more than $50000 out of 32561 people'.format(s1))\n",
        "elif A == 6:\n",
        "  s=len(details[details.Raceandtheirincome =='White less than 50k'])\n",
        "  s1=(s/32561)*100\n",
        "  print('Number of White earning less than $50,000 out of 32561 people: {}'.format((s)))  \n",
        "  print('{}% of White earning less than $50000 out of 32561 people'.format(s1))\n",
        "elif A == 7:\n",
        "  s=len(details[details.Raceandtheirincome =='Black more than 50k'])\n",
        "  s1=(s/32561)*100\n",
        "  print('Number of Black earning more than $50,000 out of 32561 people: {}'.format((s)))  \n",
        "  print('{}% of Black earning more than $50000 out of 32561 people'.format(s1))\n",
        "elif A == 8:\n",
        "  s=len(details[details.Raceandtheirincome =='Black less than 50k'])\n",
        "  s1=(s/32561)*100\n",
        "  print('Number of Black earning less than $50,000 out of 32561 people: {}'.format((s)))  \n",
        "  print('{}% of Black earning less than $50000 out of 32561 people'.format(s1))\n",
        "elif A == 9:\n",
        "  s=len(details[details.Raceandtheirincome =='Asian-Pac more than 50k'])\n",
        "  s1=(s/32561)*100\n",
        "  print('Number of Asia-pac earning more than $50,000 out of 32561 people: {}'.format((s)))  \n",
        "  print('{}% of Asia-pac earning more than $50000 out of 32561 people'.format(s1))\n",
        "elif A == 10:\n",
        "  s=len(details[details.Raceandtheirincome =='Asian-Pac less than 50k'])\n",
        "  s1=(s/32561)*100\n",
        "  print('Number of Asia-pac earning less than $50,000 out of 32561 people: {}'.format((s)))  \n",
        "  print('{}% of Asia-pac earning less than $50000 out of 32561 people'.format(s1))\n",
        "elif A == 11:\n",
        "  s=len(details[details.Raceandtheirincome =='Amer-Indian more than 50k'])\n",
        "  s1=(s/32561)*100\n",
        "  print('Number of Amer-Indian earning more than $50,000 out of 32561 people: {}'.format((s)))  \n",
        "  print('{}% of Amer-indian earning more than $50000 out of 32561 people'.format(s1))\n",
        "elif A == 12:\n",
        "  s=len(details[details.Raceandtheirincome =='Amer-Indian less than 50k'])\n",
        "  s1=(s/32561)*100\n",
        "  print('Number of Amer-indian earning less than $50,000 out of 32561 people: {}'.format((s)))  \n",
        "  print('{}% of Amer-indian earning less than $50000 out of 32561 people'.format(s1))\n",
        "else :\n",
        "  print('Wrong input')"
      ],
      "execution_count": 46,
      "outputs": [
        {
          "output_type": "stream",
          "text": [
            "Press 1 for the Number of white people\n",
            "Press 2 for the Number of black people\n",
            "Press 3 for the Number of Asia-pacific people\n",
            "Press 4 for the Number of Amer-Indian people\n",
            "Press 5 for the Number of White earning less than $50,000\n",
            "Press 6 for the Number of White earning more than $50,000\n",
            "Press 7 for the Number of Black earning less than $50,000\n",
            "Press 8 for the Number of Black earning less than $50,000\n",
            "Press 9 for the Number of Asia-pacific earning less than $50,000\n",
            "Press 10 for the Number of Asia-pacific earning less than $50,000\n",
            "Press 11 for the Number of Amer-Indian earning less than $50,000\n",
            "Press 12 for the Number of Amer-Indian earning more than $50,000\n",
            "1\n",
            "Number of White out of 32561 people: 27816\n",
            "85.42735173981143% of White out of 32561 people\n"
          ],
          "name": "stdout"
        }
      ]
    },
    {
      "cell_type": "markdown",
      "metadata": {
        "id": "BGaeb1Zp7JOU"
      },
      "source": [
        "Understanding the impact of Marital Status"
      ]
    },
    {
      "cell_type": "code",
      "metadata": {
        "colab": {
          "base_uri": "https://localhost:8080/"
        },
        "id": "TYrz8LgJ7JOW",
        "outputId": "8379498c-1f2f-4fef-a5b7-2a0f03c189cf"
      },
      "source": [
        "while True:\n",
        "    try:\n",
        "        print('Press 1 for the Number of Widowed people')\n",
        "        print('Press 2 for the Number of Divorced people')\n",
        "        print('Press 3 for the Number of Separated people')\n",
        "        print('Press 4 for the Number of Never-married people')\n",
        "        print('Press 5 for the Number of Married-civ-spouse people')\n",
        "        print('Press 6 for the Number of Married-spouse-absent people')\n",
        "        print('Press 7 for the Number of Married-AF-spouse people')\n",
        "        print('Press 8 for the Number of Widowed earning more than $50,000')\n",
        "        print('Press 9 for the Number of Widowed earning less than $50,000')\n",
        "        print('Press 10 for the Number of Divorced earning more than $50,000')\n",
        "        print('Press 11 for the Number of Divorced earning less than $50,000')\n",
        "        print('Press 12 for the Number of Separated earning more than $50,000')\n",
        "        print('Press 13 for the Number of Separated earning less than $50,000')\n",
        "        print('Press 14 for the Number of Never-married earning more than $50,000')\n",
        "        print('Press 15 for the Number of Never-married earning less than $50,000')\n",
        "        print('Press 16 for the Number of Married-civ-spouse earning more than $50,000')        \n",
        "        print('Press 17 for the Number of Married-civ-spouse earning less than $50,000')\n",
        "        print('Press 18 for the Number of Married-spouse-absent earning more than $50,000')\n",
        "        print('Press 19 for the Number of Married-spouse-absent earning less than $50,000')\n",
        "        print('Press 20 for the Number of Married-AF-spouse earning more than $50,000')        \n",
        "        print('Press 21 for the Number of Married-AF-spouse earning less than $50,000')\n",
        "        A=int(input())\n",
        "    except ValueError:\n",
        "        print(\"Sorry i didn't understand that\\n\")\n",
        "        continue\n",
        "    else:\n",
        "        break\n",
        "if A == 1:\n",
        "  s=len(details[details.marital_map ==0])\n",
        "  s1=(s/32561)*100\n",
        "  print('Number of Widowed out of 32561 people: {}'.format((s)))  \n",
        "  print('{}% of Widowed out of 32561 people'.format(s1))\n",
        "elif A == 2:\n",
        "  s=len(details[details.marital_map ==1])\n",
        "  s1=(s/32561)*100\n",
        "  print('Number of Divorced out of 32561 people: {}'.format((s)))  \n",
        "  print('{}% of Divorced out of 32561 people'.format(s1))\n",
        "elif A == 3:\n",
        "  s=len(details[details.marital_map ==2])\n",
        "  s1=(s/32561)*100\n",
        "  print('Number of Separated out of 32561 people: {}'.format((s)))  \n",
        "  print('{}% of Separated out of 32561 people'.format(s1))\n",
        "elif A == 4:\n",
        "  s=len(details[details.marital_map ==3])\n",
        "  s1=(s/32561)*100\n",
        "  print('Number of Never-married out of 32561 people: {}'.format((s)))  \n",
        "  print('{}% of Never-married out of 32561 people'.format(s1))\n",
        "elif A == 5:\n",
        "  s=len(details[details.marital_map ==4])\n",
        "  s1=(s/32561)*100\n",
        "  print('Number of Married-civ-spouse out of 32561 people: {}'.format((s)))  \n",
        "  print('{}% of Married-civ-spouse out of 32561 people'.format(s1))\n",
        "elif A == 6:\n",
        "  s=len(details[details.marital_map ==5])\n",
        "  s1=(s/32561)*100\n",
        "  print('Number of Married-spouse-absent out of 32561 people: {}'.format((s)))  \n",
        "  print('{}% of Married-spouse-absent out of 32561 people'.format(s1))\n",
        "elif A == 7:\n",
        "  s=len(details[details.marital_map ==6])\n",
        "  s1=(s/32561)*100\n",
        "  print('Number of Married-AF-spouse out of 32561 people: {}'.format((s)))  \n",
        "  print('{}% of Married-AF-spouse out of 32561 people'.format(s1))      \n",
        "elif A == 8:\n",
        "  s=len(details[details.MaritalStatusandtheirincome =='Widowed more than 50k'])\n",
        "  s1=(s/32561)*100\n",
        "  print('Number of Widowed earning more than $50,000 out of 32561 people: {}'.format((s)))  \n",
        "  print('{}% of Widowed earning more than $50000 out of 32561 people'.format(s1))\n",
        "elif A == 9:\n",
        "  s=len(details[details.MaritalStatusandtheirincome =='Widowed less than 50k'])\n",
        "  s1=(s/32561)*100\n",
        "  print('Number of Widowed earning less than $50,000 out of 32561 people: {}'.format((s)))  \n",
        "  print('{}% of Widowed earning less than $50000 out of 32561 people'.format(s1))\n",
        "elif A == 10:\n",
        "  s=len(details[details.MaritalStatusandtheirincome =='Divorced more than 50k'])\n",
        "  s1=(s/32561)*100\n",
        "  print('Number of Divorced earning more than $50,000 out of 32561 people: {}'.format((s)))  \n",
        "  print('{}% of Divorced earning more than $50000 out of 32561 people'.format(s1))\n",
        "elif A == 11:\n",
        "  s=len(details[details.MaritalStatusandtheirincome =='Divorced less than 50k'])\n",
        "  s1=(s/32561)*100\n",
        "  print('Number of Divorced earning less than $50,000 out of 32561 people: {}'.format((s)))  \n",
        "  print('{}% of Divorced earning less than $50000 out of 32561 people'.format(s1))\n",
        "elif A == 12:\n",
        "  s=len(details[details.MaritalStatusandtheirincome =='Separated more than 50k'])\n",
        "  s1=(s/32561)*100\n",
        "  print('Number of Separated earning more than $50,000 out of 32561 people: {}'.format((s)))  \n",
        "  print('{}% of Separated earning more than $50000 out of 32561 people'.format(s1))\n",
        "elif A == 13:\n",
        "  s=len(details[details.MaritalStatusandtheirincome =='Separated less than 50k'])\n",
        "  s1=(s/32561)*100\n",
        "  print('Number of Separated earning less than $50,000 out of 32561 people: {}'.format((s)))  \n",
        "  print('{}% of Separated earning less than $50000 out of 32561 people'.format(s1))\n",
        "elif A == 14:\n",
        "  s=len(details[details.MaritalStatusandtheirincome =='Never-married more than 50k'])\n",
        "  s1=(s/32561)*100\n",
        "  print('Number of Never-married earning more than $50,000 out of 32561 people: {}'.format((s)))  \n",
        "  print('{}% of Never-married earning more than $50000 out of 32561 people'.format(s1))\n",
        "elif A == 15:\n",
        "  s=len(details[details.MaritalStatusandtheirincome =='Never-married less than 50k'])\n",
        "  s1=(s/32561)*100\n",
        "  print('Number of Never-married earning less than $50,000 out of 32561 people: {}'.format((s)))  \n",
        "  print('{}% of Never-married earning less than $50000 out of 32561 people'.format(s1))\n",
        "elif A == 16:\n",
        "  s=len(details[details.MaritalStatusandtheirincome =='Married-civ-spouse more than 50k'])\n",
        "  s1=(s/32561)*100\n",
        "  print('Number of Married-civ-spouse earning more than $50,000 out of 32561 people: {}'.format((s)))  \n",
        "  print('{}% of Married-civ-spouse earning more than $50000 out of 32561 people'.format(s1))\n",
        "elif A == 17:\n",
        "  s=len(details[details.MaritalStatusandtheirincome =='Married-civ-spouse less than 50k'])\n",
        "  s1=(s/32561)*100\n",
        "  print('Number of Married-civ-spouse earning less than $50,000 out of 32561 people: {}'.format((s)))  \n",
        "  print('{}% of Married-civ-spouse earning less than $50000 out of 32561 people'.format(s1))\n",
        "elif A == 18:\n",
        "  s=len(details[details.MaritalStatusandtheirincome =='Married-spouse-absent more than 50k'])\n",
        "  s1=(s/32561)*100\n",
        "  print('Number of Married-spouse-absent earning more than $50,000 out of 32561 people: {}'.format((s)))  \n",
        "  print('{}% of Married-spouse-absent earning more than $50000 out of 32561 people'.format(s1))\n",
        "elif A == 19:\n",
        "  s=len(details[details.MaritalStatusandtheirincome =='Married-spouse-absent less than 50k'])\n",
        "  s1=(s/32561)*100\n",
        "  print('Number of Married-spouse-absent earning less than $50,000 out of 32561 people: {}'.format((s)))  \n",
        "  print('{}% of Married-spouse-absent earning less than $50000 out of 32561 people'.format(s1))\n",
        "elif A == 20:\n",
        "  s=len(details[details.MaritalStatusandtheirincome =='Married-AF-spouse more than 50k'])\n",
        "  s1=(s/32561)*100\n",
        "  print('Number of Married-AF-spouse earning more than $50,000 out of 32561 people: {}'.format((s)))  \n",
        "  print('{}% of Married-AF-spouse earning more than $50000 out of 32561 people'.format(s1))\n",
        "elif A == 21:\n",
        "  s=len(details[details.MaritalStatusandtheirincome =='Married-AF-spouse less than 50k'])\n",
        "  s1=(s/32561)*100\n",
        "  print('Number of Married-AF-spouse earning less than $50,000 out of 32561 people: {}'.format((s)))  \n",
        "  print('{}% of Married-AF-spouse earning less than $50000 out of 32561 people'.format(s1))            \n",
        "else :\n",
        "  print('Wrong input')"
      ],
      "execution_count": 47,
      "outputs": [
        {
          "output_type": "stream",
          "text": [
            "Press 1 for the Number of Widowed people\n",
            "Press 2 for the Number of Divorced people\n",
            "Press 3 for the Number of Separated people\n",
            "Press 4 for the Number of Never-married people\n",
            "Press 5 for the Number of Married-civ-spouse people\n",
            "Press 6 for the Number of Married-spouse-absent people\n",
            "Press 7 for the Number of Married-AF-spouse people\n",
            "Press 8 for the Number of Widowed earning more than $50,000\n",
            "Press 9 for the Number of Widowed earning less than $50,000\n",
            "Press 10 for the Number of Divorced earning more than $50,000\n",
            "Press 11 for the Number of Divorced earning less than $50,000\n",
            "Press 12 for the Number of Separated earning more than $50,000\n",
            "Press 13 for the Number of Separated earning less than $50,000\n",
            "Press 14 for the Number of Never-married earning more than $50,000\n",
            "Press 15 for the Number of Never-married earning less than $50,000\n",
            "Press 16 for the Number of Married-civ-spouse earning more than $50,000\n",
            "Press 17 for the Number of Married-civ-spouse earning less than $50,000\n",
            "Press 18 for the Number of Married-spouse-absent earning more than $50,000\n",
            "Press 19 for the Number of Married-spouse-absent earning less than $50,000\n",
            "Press 20 for the Number of Married-AF-spouse earning more than $50,000\n",
            "Press 21 for the Number of Married-AF-spouse earning less than $50,000\n",
            "1\n",
            "Number of Widowed out of 32561 people: 993\n",
            "3.0496606369583246% of Widowed out of 32561 people\n"
          ],
          "name": "stdout"
        }
      ]
    },
    {
      "cell_type": "markdown",
      "metadata": {
        "id": "vdLylX0EGqPs"
      },
      "source": [
        "Understanding the impact of Relationship Status"
      ]
    },
    {
      "cell_type": "code",
      "metadata": {
        "colab": {
          "base_uri": "https://localhost:8080/"
        },
        "id": "dWk7dlXJGqPv",
        "outputId": "a0225b94-d391-4007-8d66-bb1f011c8ecc"
      },
      "source": [
        "while True:\n",
        "    try:\n",
        "        print('Press 1 for the Number of NoFamily/Unmarried/OwnChild/OtherRelative')\n",
        "        print('Press 2 for the Number of Husband/wife')\n",
        "        print('Press 3 for the Number of NoFamily/Unmarried/OwnChild/OtherRelative earning less than $50,000')\n",
        "        print('Press 4 for the Number of NoFamily/Unmarried/OwnChild/OtherRelative earning more than $50,000')\n",
        "        print('Press 5 for the Number of Husband/wife earning less than $50,000')        \n",
        "        print('Press 6 for the Number of Husband/wife earning more than $50,000')\n",
        "        A=int(input())\n",
        "    except ValueError:\n",
        "        print(\"Sorry i didn't understand that\\n\")\n",
        "        continue\n",
        "    else:\n",
        "        break\n",
        "if A == 1:\n",
        "  s=len(details[details.rel_map ==0])\n",
        "  s1=(s/32561)*100\n",
        "  print('Number of NoFamily/Unmarried/OwnChild/OtherRelative out of 32561 people: {}'.format((s)))  \n",
        "  print('{}% of NoFamily/Unmarried/OwnChild/OtherRelative earning more than $50000 out of 32561 people'.format(s1))\n",
        "elif A == 2:\n",
        "  s=len(details[details.rel_map ==1])\n",
        "  s1=(s/32561)*100\n",
        "  print('Number of Husband/wife out of 32561 people: {}'.format((s)))  \n",
        "  print('{}% of Husband/wife earning more than $50000 out of 32561 people'.format(s1))\n",
        "elif A == 3:\n",
        "  s=len(details[details.RelationshipStatusandtheirincome =='NoFamily/Unmarried/OwnChild/OtherRelative less than 50k'])\n",
        "  s1=(s/32561)*100\n",
        "  print('Number of NoFamily/Unmarried/OwnChild/OtherRelative earning less than $50,000 out of 32561 people: {}'.format((s)))  \n",
        "  print('{}% of NoFamily/Unmarried/OwnChild/OtherRelative earning less than $50000 out of 32561 people'.format(s1))\n",
        "elif A == 4:\n",
        "  s=len(details[details.RelationshipStatusandtheirincome =='NoFamily/Unmarried/OwnChild/OtherRelative more than 50k'])\n",
        "  s1=(s/32561)*100\n",
        "  print('Number of NoFamily/Unmarried/OwnChild/OtherRelative earning more than $50,000 out of 32561 people: {}'.format((s)))  \n",
        "  print('{}% of NoFamily/Unmarried/OwnChild/OtherRelative earning more than $50000 out of 32561 people'.format(s1))\n",
        "elif A == 5:\n",
        "  s=len(details[details.RelationshipStatusandtheirincome =='Husband/wife more than 50k'])\n",
        "  s1=(s/32561)*100\n",
        "  print('Number of Husband/wife earning more than $50,000 out of 32561 people: {}'.format((s)))  \n",
        "  print('{}% of Husband/wife earning more than $50000 out of 32561 people'.format(s1))\n",
        "elif A == 6:\n",
        "  s=len(details[details.RelationshipStatusandtheirincome =='Husband/Wife less than 50k'])\n",
        "  s1=(s/32561)*100\n",
        "  print('Number of Husband/wife earning less than $50,000 out of 32561 people: {}'.format((s)))  \n",
        "  print('{}% of Husband/wife earning less than $50000 out of 32561 people'.format(s1))\n",
        "else :\n",
        "  print('Wrong input')"
      ],
      "execution_count": 48,
      "outputs": [
        {
          "output_type": "stream",
          "text": [
            "Press 1 for the Number of NoFamily/Unmarried/OwnChild/OtherRelative\n",
            "Press 2 for the Number of Husband/wife\n",
            "Press 3 for the Number of NoFamily/Unmarried/OwnChild/OtherRelative earning less than $50,000\n",
            "Press 4 for the Number of NoFamily/Unmarried/OwnChild/OtherRelative earning more than $50,000\n",
            "Press 5 for the Number of Husband/wife earning less than $50,000\n",
            "Press 6 for the Number of Husband/wife earning more than $50,000\n",
            "1\n",
            "Number of NoFamily/Unmarried/OwnChild/OtherRelative out of 32561 people: 17800\n",
            "54.666625717883356% of NoFamily/Unmarried/OwnChild/OtherRelative earning more than $50000 out of 32561 people\n"
          ],
          "name": "stdout"
        }
      ]
    },
    {
      "cell_type": "markdown",
      "metadata": {
        "id": "Jpyahev2J_9d"
      },
      "source": [
        "Understanding the impact of Work Status"
      ]
    },
    {
      "cell_type": "code",
      "metadata": {
        "colab": {
          "base_uri": "https://localhost:8080/"
        },
        "id": "GOmd2My4J_9p",
        "outputId": "a134cc63-318b-4692-c1b6-f418d6bfde4a"
      },
      "source": [
        "while True:\n",
        "    try:\n",
        "        print('Press 1 for the Number of ? people')\n",
        "        print('Press 2 for the Number of Private people')\n",
        "        print('Press 3 for the Number of State-gov people')\n",
        "        print('Press 4 for the Number of Federal-gov people')\n",
        "        print('Press 5 for the Number of Self-emp-not-inc people')\n",
        "        print('Press 6 for the Number of Self-emp-inc people')\n",
        "        print('Press 7 for the Number of Local-gov people')\n",
        "        print('Press 8 for the Number of Without-pay people')\n",
        "        print('Press 9 for the Number of Never-worked people')\n",
        "        print('Press 10 for the Number of ? earning more than $50,000')\n",
        "        print('Press 11 for the Number of ? earning less than $50,000')\n",
        "        print('Press 12 for the Number of Private earning more than $50,000')\n",
        "        print('Press 13 for the Number of Private earning less than $50,000')\n",
        "        print('Press 14 for the Number of State-gov earning more than $50,000')\n",
        "        print('Press 15 for the Number of State-gov earning less than $50,000')\n",
        "        print('Press 16 for the Number of Federal-gov earning more than $50,000')\n",
        "        print('Press 17 for the Number of Federal-gov earning less than $50,000')\n",
        "        print('Press 18 for the Number of Self-emp-not-inc earning more than $50,000')        \n",
        "        print('Press 19 for the Number of Self-emp-not-inc earning less than $50,000')\n",
        "        print('Press 20 for the Number of Self-emp-inc earning more than $50,000')\n",
        "        print('Press 21 for the Number of Self-emp-inc earning less than $50,000')\n",
        "        print('Press 22 for the Number of Local-gov earning more than $50,000')        \n",
        "        print('Press 23 for the Number of Local-gov earning less than $50,000')\n",
        "        print('Press 24 for the Number of Without-pay earning more than $50,000')\n",
        "        print('Press 25 for the Number of Without-pay earning less than $50,000')\n",
        "        print('Press 26 for the Number of Never-worked earning more than $50,000')        \n",
        "        print('Press 27 for the Number of Never-worked earning less than $50,000')\n",
        "        A=int(input())\n",
        "    except ValueError:\n",
        "        print(\"Sorry i didn't understand that\\n\")\n",
        "        continue\n",
        "    else:\n",
        "        break\n",
        "if A == 1:\n",
        "  s=len(details[details.work_map ==0])\n",
        "  s1=(s/32561)*100\n",
        "  print('Number of ? out of 32561 people: {}'.format((s)))  \n",
        "  print('{}% of ? out of 32561 people'.format(s1))\n",
        "elif A == 2:\n",
        "  s=len(details[details.work_map ==1])\n",
        "  s1=(s/32561)*100\n",
        "  print('Number of Private out of 32561 people: {}'.format((s)))  \n",
        "  print('{}% of Private out of 32561 people'.format(s1))\n",
        "elif A == 3:\n",
        "  s=len(details[details.work_map ==2])\n",
        "  s1=(s/32561)*100\n",
        "  print('Number of State-gov out of 32561 people: {}'.format((s)))  \n",
        "  print('{}% of State-gov out of 32561 people'.format(s1))\n",
        "elif A == 4:\n",
        "  s=len(details[details.work_map ==3])\n",
        "  s1=(s/32561)*100\n",
        "  print('Number of Federal-gov out of 32561 people: {}'.format((s)))  \n",
        "  print('{}% of Federal-gov out of 32561 people'.format(s1))    \n",
        "elif A == 5:\n",
        "  s=len(details[details.work_map ==4])\n",
        "  s1=(s/32561)*100\n",
        "  print('Number of Self-emp-not-inc out of 32561 people: {}'.format((s)))  \n",
        "  print('{}% of Self-emp-not-inc out of 32561 people'.format(s1))\n",
        "elif A == 6:\n",
        "  s=len(details[details.work_map ==5])\n",
        "  s1=(s/32561)*100\n",
        "  print('Number of Self-emp-inc out of 32561 people: {}'.format((s)))  \n",
        "  print('{}% of Self-emp-inc out of 32561 people'.format(s1))\n",
        "elif A == 7:\n",
        "  s=len(details[details.work_map ==6])\n",
        "  s1=(s/32561)*100\n",
        "  print('Number of Local-gov out of 32561 people: {}'.format((s)))  \n",
        "  print('{}% of Local-gov out of 32561 people'.format(s1))\n",
        "elif A == 8:\n",
        "  s=len(details[details.work_map ==7])\n",
        "  s1=(s/32561)*100\n",
        "  print('Number of Without-pay out of 32561 people: {}'.format((s)))  \n",
        "  print('{}% of Without-pay out of 32561 people'.format(s1))\n",
        "elif A == 9:\n",
        "  s=len(details[details.work_map ==8])\n",
        "  s1=(s/32561)*100\n",
        "  print('Number of Never-worked out of 32561 people: {}'.format((s)))  \n",
        "  print('{}% of Never-worked out of 32561 people'.format(s1))      \n",
        "elif A == 10:\n",
        "  s=len(details[details.WorkStatusandtheirincome =='? more than 50k'])\n",
        "  s1=(s/32561)*100\n",
        "  print('Number of ? earning more than $50,000 out of 32561 people: {}'.format((s)))  \n",
        "  print('{}% of ? earning more than $50000 out of 32561 people'.format(s1))\n",
        "elif A == 11:\n",
        "  s=len(details[details.WorkStatusandtheirincome =='? less than 50k'])\n",
        "  s1=(s/32561)*100\n",
        "  print('Number of ? earning less than $50,000 out of 32561 people: {}'.format((s)))  \n",
        "  print('{}% of ? earning less than $50000 out of 32561 people'.format(s1))\n",
        "elif A == 12:\n",
        "  s=len(details[details.WorkStatusandtheirincome =='Private more than 50k'])\n",
        "  s1=(s/32561)*100\n",
        "  print('Number of Private earning more than $50,000 out of 32561 people: {}'.format((s)))  \n",
        "  print('{}% of Private earning more than $50000 out of 32561 people'.format(s1))\n",
        "elif A == 13:\n",
        "  s=len(details[details.WorkStatusandtheirincome =='Private less than 50k'])\n",
        "  s1=(s/32561)*100\n",
        "  print('Number of Private earning less than $50,000 out of 32561 people: {}'.format((s)))  \n",
        "  print('{}% of Private earning less than $50000 out of 32561 people'.format(s1))\n",
        "elif A == 14:\n",
        "  s=len(details[details.WorkStatusandtheirincome =='State Gov more than 50k'])\n",
        "  s1=(s/32561)*100\n",
        "  print('Number of State Gov earning more than $50,000 out of 32561 people: {}'.format((s)))  \n",
        "  print('{}% of State Gov earning more than $50000 out of 32561 people'.format(s1))\n",
        "elif A == 15:\n",
        "  s=len(details[details.WorkStatusandtheirincome =='State Gov less than 50k'])\n",
        "  s1=(s/32561)*100\n",
        "  print('Number of State Gov earning less than $50,000 out of 32561 people: {}'.format((s)))  \n",
        "  print('{}% of State Gov earning less than $50000 out of 32561 people'.format(s1))\n",
        "elif A == 16:\n",
        "  s=len(details[details.WorkStatusandtheirincome =='Federal Gov more than 50k'])\n",
        "  s1=(s/32561)*100\n",
        "  print('Number of Federal Gov earning more than $50,000 out of 32561 people: {}'.format((s)))  \n",
        "  print('{}% of Federal Gov earning more than $50000 out of 32561 people'.format(s1))\n",
        "elif A == 17:\n",
        "  s=len(details[details.WorkStatusandtheirincome =='federal Gov less than 50k'])\n",
        "  s1=(s/32561)*100\n",
        "  print('Number of Federal Gov earning less than $50,000 out of 32561 people: {}'.format((s)))  \n",
        "  print('{}% of Federal Gov earning less than $50000 out of 32561 people'.format(s1))\n",
        "elif A == 18:\n",
        "  s=len(details[details.WorkStatusandtheirincome =='Self emp not inc more than 50k'])\n",
        "  s1=(s/32561)*100\n",
        "  print('Number of Self emp not inc earning more than $50,000 out of 32561 people: {}'.format((s)))  \n",
        "  print('{}% of Self emp not inc earning more than $50000 out of 32561 people'.format(s1))\n",
        "elif A == 19:\n",
        "  s=len(details[details.WorkStatusandtheirincome =='Self emp not inc less than 50k'])\n",
        "  s1=(s/32561)*100\n",
        "  print('Number of Self emp not inc earning less than $50,000 out of 32561 people: {}'.format((s)))  \n",
        "  print('{}% of Self emp not inc earning less than $50000 out of 32561 people'.format(s1))\n",
        "elif A == 20:\n",
        "  s=len(details[details.WorkStatusandtheirincome =='Self emp inc more than 50k'])\n",
        "  s1=(s/32561)*100\n",
        "  print('Number of Self emp inc earning more than $50,000 out of 32561 people: {}'.format((s)))  \n",
        "  print('{}% of Self emp inc earning more than $50000 out of 32561 people'.format(s1))\n",
        "elif A == 21:\n",
        "  s=len(details[details.WorkStatusandtheirincome =='Self emp inc less than 50k'])\n",
        "  s1=(s/32561)*100\n",
        "  print('Number of Self emp inc earning less than $50,000 out of 32561 people: {}'.format((s)))  \n",
        "  print('{}% of Self emp inc earning less than $50000 out of 32561 people'.format(s1))\n",
        "elif A == 22:\n",
        "  s=len(details[details.WorkStatusandtheirincome =='Local gov more than 50k'])\n",
        "  s1=(s/32561)*100\n",
        "  print('Number of Local gov earning more than $50,000 out of 32561 people: {}'.format((s)))  \n",
        "  print('{}% of Local gov earning more than $50000 out of 32561 people'.format(s1))\n",
        "elif A == 23:\n",
        "  s=len(details[details.WorkStatusandtheirincome =='Local gov less than 50k'])\n",
        "  s1=(s/32561)*100\n",
        "  print('Number of Local gov earning less than $50,000 out of 32561 people: {}'.format((s)))  \n",
        "  print('{}% of Local gov earning less than $50000 out of 32561 people'.format(s1))\n",
        "elif A == 24:\n",
        "  s=len(details[details.WorkStatusandtheirincome =='Without pay more than 50k'])\n",
        "  s1=(s/32561)*100\n",
        "  print('Number of Without pay earning more than $50,000 out of 32561 people: {}'.format((s)))  \n",
        "  print('{}% of Without pay earning more than $50000 out of 32561 people'.format(s1))\n",
        "elif A == 25:\n",
        "  s=len(details[details.WorkStatusandtheirincome =='Without pay less than 50k'])\n",
        "  s1=(s/32561)*100\n",
        "  print('Number of Without pay earning less than $50,000 out of 32561 people: {}'.format((s)))  \n",
        "  print('{}% of Without pay earning less than $50000 out of 32561 people'.format(s1))\n",
        "elif A == 26:\n",
        "  s=len(details[details.WorkStatusandtheirincome =='Never Worked more than 50k'])\n",
        "  s1=(s/32561)*100\n",
        "  print('Number of Never Worked earning more than $50,000 out of 32561 people: {}'.format((s)))  \n",
        "  print('{}% of Never Worked earning more than $50000 out of 32561 people'.format(s1))\n",
        "elif A == 27:\n",
        "  s=len(details[details.WorkStatusandtheirincome =='Never Worked less than 50k'])\n",
        "  s1=(s/32561)*100\n",
        "  print('Number of Never Worked earning less than $50,000 out of 32561 people: {}'.format((s)))  \n",
        "  print('{}% of Never Worked earning less than $50000 out of 32561 people'.format(s1))              \n",
        "else :\n",
        "  print('Wrong input')"
      ],
      "execution_count": 49,
      "outputs": [
        {
          "output_type": "stream",
          "text": [
            "Press 1 for the Number of ? people\n",
            "Press 2 for the Number of Private people\n",
            "Press 3 for the Number of State-gov people\n",
            "Press 4 for the Number of Federal-gov people\n",
            "Press 5 for the Number of Self-emp-not-inc people\n",
            "Press 6 for the Number of Self-emp-inc people\n",
            "Press 7 for the Number of Local-gov people\n",
            "Press 8 for the Number of Without-pay people\n",
            "Press 9 for the Number of Never-worked people\n",
            "Press 10 for the Number of ? earning more than $50,000\n",
            "Press 11 for the Number of ? earning less than $50,000\n",
            "Press 12 for the Number of Private earning more than $50,000\n",
            "Press 13 for the Number of Private earning less than $50,000\n",
            "Press 14 for the Number of State-gov earning more than $50,000\n",
            "Press 15 for the Number of State-gov earning less than $50,000\n",
            "Press 16 for the Number of Federal-gov earning more than $50,000\n",
            "Press 17 for the Number of Federal-gov earning less than $50,000\n",
            "Press 18 for the Number of Self-emp-not-inc earning more than $50,000\n",
            "Press 19 for the Number of Self-emp-not-inc earning less than $50,000\n",
            "Press 20 for the Number of Self-emp-inc earning more than $50,000\n",
            "Press 21 for the Number of Self-emp-inc earning less than $50,000\n",
            "Press 22 for the Number of Local-gov earning more than $50,000\n",
            "Press 23 for the Number of Local-gov earning less than $50,000\n",
            "Press 24 for the Number of Without-pay earning more than $50,000\n",
            "Press 25 for the Number of Without-pay earning less than $50,000\n",
            "Press 26 for the Number of Never-worked earning more than $50,000\n",
            "Press 27 for the Number of Never-worked earning less than $50,000\n",
            "27\n",
            "Number of Never Worked earning less than $50,000 out of 32561 people: 7\n",
            "0.021498111237369857% of Never Worked earning less than $50000 out of 32561 people\n"
          ],
          "name": "stdout"
        }
      ]
    }
  ]
}