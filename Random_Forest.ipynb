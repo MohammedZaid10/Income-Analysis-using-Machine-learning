{
  "nbformat": 4,
  "nbformat_minor": 0,
  "metadata": {
    "colab": {
      "name": "Random_Forest.ipynb",
      "provenance": [],
      "collapsed_sections": []
    },
    "kernelspec": {
      "name": "python3",
      "display_name": "Python 3"
    }
  },
  "cells": [
    {
      "cell_type": "code",
      "metadata": {
        "id": "H0E70hDpWIry"
      },
      "source": [
        "import pandas as pd\n",
        "import numpy as np\n",
        "import matplotlib.pyplot as plt\n",
        "import seaborn as sns\n",
        "%matplotlib inline"
      ],
      "execution_count": 1,
      "outputs": []
    },
    {
      "cell_type": "code",
      "metadata": {
        "id": "wjIAE-lKWMeX"
      },
      "source": [
        "income = pd.read_csv('adult_income.csv')"
      ],
      "execution_count": 2,
      "outputs": []
    },
    {
      "cell_type": "code",
      "metadata": {
        "colab": {
          "base_uri": "https://localhost:8080/",
          "height": 292
        },
        "id": "OsIdogPYWTBI",
        "outputId": "7a1ba599-d0a4-4daa-b45d-d1a2595cbca9"
      },
      "source": [
        "income.head()"
      ],
      "execution_count": 3,
      "outputs": [
        {
          "output_type": "execute_result",
          "data": {
            "text/html": [
              "<div>\n",
              "<style scoped>\n",
              "    .dataframe tbody tr th:only-of-type {\n",
              "        vertical-align: middle;\n",
              "    }\n",
              "\n",
              "    .dataframe tbody tr th {\n",
              "        vertical-align: top;\n",
              "    }\n",
              "\n",
              "    .dataframe thead th {\n",
              "        text-align: right;\n",
              "    }\n",
              "</style>\n",
              "<table border=\"1\" class=\"dataframe\">\n",
              "  <thead>\n",
              "    <tr style=\"text-align: right;\">\n",
              "      <th></th>\n",
              "      <th>age</th>\n",
              "      <th>workclass</th>\n",
              "      <th>fnlwgt</th>\n",
              "      <th>education</th>\n",
              "      <th>education.num</th>\n",
              "      <th>marital.status</th>\n",
              "      <th>occupation</th>\n",
              "      <th>relationship</th>\n",
              "      <th>race</th>\n",
              "      <th>sex</th>\n",
              "      <th>capital.gain</th>\n",
              "      <th>capital.loss</th>\n",
              "      <th>hours.per.week</th>\n",
              "      <th>native.country</th>\n",
              "      <th>income</th>\n",
              "    </tr>\n",
              "  </thead>\n",
              "  <tbody>\n",
              "    <tr>\n",
              "      <th>0</th>\n",
              "      <td>90</td>\n",
              "      <td>?</td>\n",
              "      <td>77053</td>\n",
              "      <td>HS-grad</td>\n",
              "      <td>9</td>\n",
              "      <td>Widowed</td>\n",
              "      <td>?</td>\n",
              "      <td>Not-in-family</td>\n",
              "      <td>White</td>\n",
              "      <td>Female</td>\n",
              "      <td>0</td>\n",
              "      <td>4356</td>\n",
              "      <td>40</td>\n",
              "      <td>United-States</td>\n",
              "      <td>&lt;=50K</td>\n",
              "    </tr>\n",
              "    <tr>\n",
              "      <th>1</th>\n",
              "      <td>82</td>\n",
              "      <td>Private</td>\n",
              "      <td>132870</td>\n",
              "      <td>HS-grad</td>\n",
              "      <td>9</td>\n",
              "      <td>Widowed</td>\n",
              "      <td>Exec-managerial</td>\n",
              "      <td>Not-in-family</td>\n",
              "      <td>White</td>\n",
              "      <td>Female</td>\n",
              "      <td>0</td>\n",
              "      <td>4356</td>\n",
              "      <td>18</td>\n",
              "      <td>United-States</td>\n",
              "      <td>&lt;=50K</td>\n",
              "    </tr>\n",
              "    <tr>\n",
              "      <th>2</th>\n",
              "      <td>66</td>\n",
              "      <td>?</td>\n",
              "      <td>186061</td>\n",
              "      <td>Some-college</td>\n",
              "      <td>10</td>\n",
              "      <td>Widowed</td>\n",
              "      <td>?</td>\n",
              "      <td>Unmarried</td>\n",
              "      <td>Black</td>\n",
              "      <td>Female</td>\n",
              "      <td>0</td>\n",
              "      <td>4356</td>\n",
              "      <td>40</td>\n",
              "      <td>United-States</td>\n",
              "      <td>&lt;=50K</td>\n",
              "    </tr>\n",
              "    <tr>\n",
              "      <th>3</th>\n",
              "      <td>54</td>\n",
              "      <td>Private</td>\n",
              "      <td>140359</td>\n",
              "      <td>7th-8th</td>\n",
              "      <td>4</td>\n",
              "      <td>Divorced</td>\n",
              "      <td>Machine-op-inspct</td>\n",
              "      <td>Unmarried</td>\n",
              "      <td>White</td>\n",
              "      <td>Female</td>\n",
              "      <td>0</td>\n",
              "      <td>3900</td>\n",
              "      <td>40</td>\n",
              "      <td>United-States</td>\n",
              "      <td>&lt;=50K</td>\n",
              "    </tr>\n",
              "    <tr>\n",
              "      <th>4</th>\n",
              "      <td>41</td>\n",
              "      <td>Private</td>\n",
              "      <td>264663</td>\n",
              "      <td>Some-college</td>\n",
              "      <td>10</td>\n",
              "      <td>Separated</td>\n",
              "      <td>Prof-specialty</td>\n",
              "      <td>Own-child</td>\n",
              "      <td>White</td>\n",
              "      <td>Female</td>\n",
              "      <td>0</td>\n",
              "      <td>3900</td>\n",
              "      <td>40</td>\n",
              "      <td>United-States</td>\n",
              "      <td>&lt;=50K</td>\n",
              "    </tr>\n",
              "  </tbody>\n",
              "</table>\n",
              "</div>"
            ],
            "text/plain": [
              "   age workclass  fnlwgt  ... hours.per.week  native.country income\n",
              "0   90         ?   77053  ...             40   United-States  <=50K\n",
              "1   82   Private  132870  ...             18   United-States  <=50K\n",
              "2   66         ?  186061  ...             40   United-States  <=50K\n",
              "3   54   Private  140359  ...             40   United-States  <=50K\n",
              "4   41   Private  264663  ...             40   United-States  <=50K\n",
              "\n",
              "[5 rows x 15 columns]"
            ]
          },
          "metadata": {
            "tags": []
          },
          "execution_count": 3
        }
      ]
    },
    {
      "cell_type": "code",
      "metadata": {
        "id": "8xGxP6aGWb_b"
      },
      "source": [
        "income.columns = income.columns.str.replace('.','_')"
      ],
      "execution_count": 4,
      "outputs": []
    },
    {
      "cell_type": "code",
      "metadata": {
        "id": "10j4LDLNWeZC"
      },
      "source": [
        "income['income_map'] = income.income.map({'<=50K':0, '>50K': 1})\n",
        "income['sex_map'] = income.sex.map({'Female':0, 'Male':1})\n",
        "income['race_map']=income.race.map({'White':0, 'Black':1, \n",
        "                                    'Asian-Pac-Islander':2, 'Amer-Indian-Eskimo':3})\n",
        "income['marital_map'] = income.marital_status.map({'Widowed':0, 'Divorced':1, 'Separated':2,\n",
        "                                                  'Never-married':3, 'Married-civ-spouse':4,\n",
        "                                                  'Married-spouse-absent':5, 'Married-AF-spouse':6})\n",
        "income['rel_map']=income.relationship.map({'Not-in-family':0, 'Unmarried':0, \n",
        "                                           'Own-child':0, 'Other-relative':0, \n",
        "                                           'Husband':1, 'Wife':1})\n",
        "income['work_map']=income.workclass.map({'?':0, 'Private':1, 'State-gov':2, 'Federal-gov':3, \n",
        "                                        'Self-emp-not-inc':4, 'Self-emp-inc': 5, 'Local-gov': 6,\n",
        "                                        'Without-pay':7, 'Never-worked':8})"
      ],
      "execution_count": 5,
      "outputs": []
    },
    {
      "cell_type": "code",
      "metadata": {
        "id": "hkO7ZYe1Weso"
      },
      "source": [
        "num_cols = ['age', 'sex_map', 'race_map','education_num', 'work_map', \n",
        "            'marital_map', 'rel_map', 'hours_per_week','capital_gain', 'capital_loss', \n",
        "            'fnlwgt', 'income_map']"
      ],
      "execution_count": 6,
      "outputs": []
    },
    {
      "cell_type": "code",
      "metadata": {
        "id": "wSp0ipU6WfDp"
      },
      "source": [
        "income=income[num_cols].fillna(-9999)"
      ],
      "execution_count": 7,
      "outputs": []
    },
    {
      "cell_type": "code",
      "metadata": {
        "colab": {
          "base_uri": "https://localhost:8080/",
          "height": 204
        },
        "id": "fgKhcBWoWfag",
        "outputId": "092af1e6-c62c-4154-fabc-321f9df55410"
      },
      "source": [
        "income.head()"
      ],
      "execution_count": 8,
      "outputs": [
        {
          "output_type": "execute_result",
          "data": {
            "text/html": [
              "<div>\n",
              "<style scoped>\n",
              "    .dataframe tbody tr th:only-of-type {\n",
              "        vertical-align: middle;\n",
              "    }\n",
              "\n",
              "    .dataframe tbody tr th {\n",
              "        vertical-align: top;\n",
              "    }\n",
              "\n",
              "    .dataframe thead th {\n",
              "        text-align: right;\n",
              "    }\n",
              "</style>\n",
              "<table border=\"1\" class=\"dataframe\">\n",
              "  <thead>\n",
              "    <tr style=\"text-align: right;\">\n",
              "      <th></th>\n",
              "      <th>age</th>\n",
              "      <th>sex_map</th>\n",
              "      <th>race_map</th>\n",
              "      <th>education_num</th>\n",
              "      <th>work_map</th>\n",
              "      <th>marital_map</th>\n",
              "      <th>rel_map</th>\n",
              "      <th>hours_per_week</th>\n",
              "      <th>capital_gain</th>\n",
              "      <th>capital_loss</th>\n",
              "      <th>fnlwgt</th>\n",
              "      <th>income_map</th>\n",
              "    </tr>\n",
              "  </thead>\n",
              "  <tbody>\n",
              "    <tr>\n",
              "      <th>0</th>\n",
              "      <td>90</td>\n",
              "      <td>0</td>\n",
              "      <td>0.0</td>\n",
              "      <td>9</td>\n",
              "      <td>0</td>\n",
              "      <td>0</td>\n",
              "      <td>0</td>\n",
              "      <td>40</td>\n",
              "      <td>0</td>\n",
              "      <td>4356</td>\n",
              "      <td>77053</td>\n",
              "      <td>0</td>\n",
              "    </tr>\n",
              "    <tr>\n",
              "      <th>1</th>\n",
              "      <td>82</td>\n",
              "      <td>0</td>\n",
              "      <td>0.0</td>\n",
              "      <td>9</td>\n",
              "      <td>1</td>\n",
              "      <td>0</td>\n",
              "      <td>0</td>\n",
              "      <td>18</td>\n",
              "      <td>0</td>\n",
              "      <td>4356</td>\n",
              "      <td>132870</td>\n",
              "      <td>0</td>\n",
              "    </tr>\n",
              "    <tr>\n",
              "      <th>2</th>\n",
              "      <td>66</td>\n",
              "      <td>0</td>\n",
              "      <td>1.0</td>\n",
              "      <td>10</td>\n",
              "      <td>0</td>\n",
              "      <td>0</td>\n",
              "      <td>0</td>\n",
              "      <td>40</td>\n",
              "      <td>0</td>\n",
              "      <td>4356</td>\n",
              "      <td>186061</td>\n",
              "      <td>0</td>\n",
              "    </tr>\n",
              "    <tr>\n",
              "      <th>3</th>\n",
              "      <td>54</td>\n",
              "      <td>0</td>\n",
              "      <td>0.0</td>\n",
              "      <td>4</td>\n",
              "      <td>1</td>\n",
              "      <td>1</td>\n",
              "      <td>0</td>\n",
              "      <td>40</td>\n",
              "      <td>0</td>\n",
              "      <td>3900</td>\n",
              "      <td>140359</td>\n",
              "      <td>0</td>\n",
              "    </tr>\n",
              "    <tr>\n",
              "      <th>4</th>\n",
              "      <td>41</td>\n",
              "      <td>0</td>\n",
              "      <td>0.0</td>\n",
              "      <td>10</td>\n",
              "      <td>1</td>\n",
              "      <td>2</td>\n",
              "      <td>0</td>\n",
              "      <td>40</td>\n",
              "      <td>0</td>\n",
              "      <td>3900</td>\n",
              "      <td>264663</td>\n",
              "      <td>0</td>\n",
              "    </tr>\n",
              "  </tbody>\n",
              "</table>\n",
              "</div>"
            ],
            "text/plain": [
              "   age  sex_map  race_map  ...  capital_loss  fnlwgt  income_map\n",
              "0   90        0       0.0  ...          4356   77053           0\n",
              "1   82        0       0.0  ...          4356  132870           0\n",
              "2   66        0       1.0  ...          4356  186061           0\n",
              "3   54        0       0.0  ...          3900  140359           0\n",
              "4   41        0       0.0  ...          3900  264663           0\n",
              "\n",
              "[5 rows x 12 columns]"
            ]
          },
          "metadata": {
            "tags": []
          },
          "execution_count": 8
        }
      ]
    },
    {
      "cell_type": "code",
      "metadata": {
        "id": "B8niOTMDWfy0"
      },
      "source": [
        "features=['age', 'sex_map', 'race_map','education_num', 'work_map', \n",
        "          'marital_map', 'rel_map', 'hours_per_week','capital_gain', \n",
        "          'capital_loss', 'fnlwgt']\n",
        "\n",
        "target=['income_map']"
      ],
      "execution_count": 9,
      "outputs": []
    },
    {
      "cell_type": "code",
      "metadata": {
        "id": "OMtVZAJiWxlT"
      },
      "source": [
        "X = income[features].values\n",
        "y = income[target].values.flatten()"
      ],
      "execution_count": 10,
      "outputs": []
    },
    {
      "cell_type": "code",
      "metadata": {
        "id": "rzRQFDqrWx53"
      },
      "source": [
        "from sklearn.model_selection import train_test_split\n",
        "    \n",
        "X_train, X_test, y_train, y_test = train_test_split(X,y, random_state=0)"
      ],
      "execution_count": 11,
      "outputs": []
    },
    {
      "cell_type": "markdown",
      "metadata": {
        "id": "5CicYAokxMpz"
      },
      "source": [
        "# Random Forest Classifier"
      ]
    },
    {
      "cell_type": "code",
      "metadata": {
        "id": "qpZmtofSWyW0"
      },
      "source": [
        "def random_forest():\n",
        "    from sklearn.ensemble import RandomForestClassifier\n",
        "    from sklearn.model_selection import GridSearchCV\n",
        "    \n",
        "    clf = RandomForestClassifier(random_state=0)\n",
        "    grid_values = {'max_depth': np.arange(1,11,2), 'max_features': np.arange(1,11,2)}\n",
        "    \n",
        "    grid_clf = GridSearchCV(clf, param_grid = grid_values)\n",
        "    grid_clf.fit(X, y)\n",
        "    \n",
        "    \n",
        "    return grid_clf.best_estimator_"
      ],
      "execution_count": 12,
      "outputs": []
    },
    {
      "cell_type": "code",
      "metadata": {
        "id": "d86gZzK1Wyr_"
      },
      "source": [
        "rdm_forest_clf = random_forest()"
      ],
      "execution_count": 13,
      "outputs": []
    },
    {
      "cell_type": "markdown",
      "metadata": {
        "id": "Pu4RxBl4JNFm"
      },
      "source": [
        "# Analysis of Income using the Machine learning Algorithms "
      ]
    },
    {
      "cell_type": "markdown",
      "metadata": {
        "id": "VRJCRquMM7Ko"
      },
      "source": [
        "Evaluation"
      ]
    },
    {
      "cell_type": "code",
      "metadata": {
        "id": "lDGN5UVoWzMZ"
      },
      "source": [
        "def evaluation(model):\n",
        "    from sklearn.metrics import classification_report\n",
        "    \n",
        "    # This function gives provides verious evaluation metrics for the input model\n",
        "    \n",
        "    y_pred = model.predict(X_test)\n",
        "    \n",
        "    print(classification_report(y_test, y_pred, target_names = ['Under 50k', 'Over 50k']))\n",
        "    print('Training Set Accuracy Score: {:.2f}'.format(model.score(X_train, y_train)))\n",
        "    print('Testing Set Accuracy Score: {:.2f}'.format(model.score(X_test, y_test)))"
      ],
      "execution_count": 14,
      "outputs": []
    },
    {
      "cell_type": "code",
      "metadata": {
        "colab": {
          "base_uri": "https://localhost:8080/"
        },
        "id": "ZwE6l7QtWzcF",
        "outputId": "e1a9ed31-9280-47df-9507-bb3a5d16136e"
      },
      "source": [
        "evaluation(rdm_forest_clf)"
      ],
      "execution_count": 15,
      "outputs": [
        {
          "output_type": "stream",
          "text": [
            "              precision    recall  f1-score   support\n",
            "\n",
            "   Under 50k       0.86      0.95      0.90      6193\n",
            "    Over 50k       0.76      0.51      0.61      1948\n",
            "\n",
            "    accuracy                           0.84      8141\n",
            "   macro avg       0.81      0.73      0.76      8141\n",
            "weighted avg       0.84      0.84      0.83      8141\n",
            "\n",
            "Training Set Accuracy Score: 0.84\n",
            "Testing Set Accuracy Score: 0.84\n"
          ],
          "name": "stdout"
        }
      ]
    },
    {
      "cell_type": "markdown",
      "metadata": {
        "id": "xLP0VI9sNFt5"
      },
      "source": [
        "Precision-Recall"
      ]
    },
    {
      "cell_type": "markdown",
      "metadata": {
        "id": "emRa9e0bNSHK"
      },
      "source": [
        "The Precision-Recall curve shows the trade off between precision and recall scores as we vary the decision threshold for classification (using either using either a probability threshold or a decision function threshold)."
      ]
    },
    {
      "cell_type": "code",
      "metadata": {
        "id": "OtUumPUVXG92"
      },
      "source": [
        "def precision_recall(model):\n",
        "    from sklearn.metrics import precision_recall_curve\n",
        "    \n",
        "    proba = model.predict_proba(X_test)\n",
        "    \n",
        "    precision, recall, threshold = precision_recall_curve(y_test, proba[:,1])\n",
        "    \n",
        "    plt.plot(precision, recall)\n",
        "    plt.xlabel('Precision')\n",
        "    plt.ylabel('Recall')\n",
        "    plt.title('Precision-Recall Curve')"
      ],
      "execution_count": 16,
      "outputs": []
    },
    {
      "cell_type": "code",
      "metadata": {
        "colab": {
          "base_uri": "https://localhost:8080/",
          "height": 295
        },
        "id": "VpFCmPx3XHcj",
        "outputId": "9519e7d6-b723-49dd-f96b-a58920953cd3"
      },
      "source": [
        "precision_recall(rdm_forest_clf)"
      ],
      "execution_count": 17,
      "outputs": [
        {
          "output_type": "display_data",
          "data": {
            "image/png": "[encoded data removed]",
            "text/plain": [
              "<Figure size 432x288 with 1 Axes>"
            ]
          },
          "metadata": {
            "tags": [],
            "needs_background": "light"
          }
        }
      ]
    },
    {
      "cell_type": "markdown",
      "metadata": {
        "id": "LAYtm7ZHNUKb"
      },
      "source": [
        "Roc Curve"
      ]
    },
    {
      "cell_type": "markdown",
      "metadata": {
        "id": "gz_KHj70Ne2I"
      },
      "source": [
        "The ROC curve (Receiver Operating Charastic) preforms the same feat for the True Positive Rate (recall) and the False Positive Rate. "
      ]
    },
    {
      "cell_type": "code",
      "metadata": {
        "id": "KTWN53_BXOCf"
      },
      "source": [
        "def roc_curve(model):\n",
        "    from sklearn.metrics import roc_curve, auc\n",
        "    \n",
        "    #scores = model.decision_function(X_test)\n",
        "    proba = model.predict_proba(X_test)\n",
        "    \n",
        "    fpr, tpr, _ = roc_curve(y_test, proba[:,1])\n",
        "    \n",
        "    plt.plot(fpr, tpr)\n",
        "    plt.xlabel('False Positive Rate')\n",
        "    plt.ylabel('True Positive Rate')\n",
        "    plt.title('ROC Curve. AUC: {}'.format(auc(fpr, tpr)))"
      ],
      "execution_count": 18,
      "outputs": []
    },
    {
      "cell_type": "code",
      "metadata": {
        "colab": {
          "base_uri": "https://localhost:8080/",
          "height": 295
        },
        "id": "ChdC7JF5XQWO",
        "outputId": "1769ed5b-0f39-4ba8-f789-1f39ade825c9"
      },
      "source": [
        "roc_curve(rdm_forest_clf)"
      ],
      "execution_count": 19,
      "outputs": [
        {
          "output_type": "display_data",
          "data": {
            "image/png": "[encoded data removed]",
            "text/plain": [
              "<Figure size 432x288 with 1 Axes>"
            ]
          },
          "metadata": {
            "tags": [],
            "needs_background": "light"
          }
        }
      ]
    },
    {
      "cell_type": "markdown",
      "metadata": {
        "id": "8RkbYUj3Nlkm"
      },
      "source": [
        "Micro Average and Macro Average"
      ]
    },
    {
      "cell_type": "markdown",
      "metadata": {
        "id": "3To6e4aVNvf4"
      },
      "source": [
        "When the micro average (each instance has same weight) preforms better than the macro average (each class has same weight) this is an indicator that the model is preforming better on the more frequent class. This holds true with the results from the evaluation function above, in which the model performed substantially better on the class earning less than $50,000."
      ]
    },
    {
      "cell_type": "code",
      "metadata": {
        "colab": {
          "base_uri": "https://localhost:8080/"
        },
        "id": "gADEa6_KXUkx",
        "outputId": "79b969d0-0aef-497d-f4df-f65c39a0780c"
      },
      "source": [
        "from sklearn.metrics import precision_score\n",
        "\n",
        "y_pred = rdm_forest_clf.predict(X_test)\n",
        "\n",
        "micro_avg = precision_score(y_test, y_pred, average='micro')\n",
        "macro_avg = precision_score(y_test, y_pred, average='macro')\n",
        "\n",
        "print('Micro Average Precision Score: {:.2f}'.format(\n",
        "    precision_score(y_test, y_pred, average='micro')))\n",
        "print('Macro Average Precision Score: {:.2f}'.format(\n",
        "    precision_score(y_test, y_pred, average='macro')))\n"
      ],
      "execution_count": 20,
      "outputs": [
        {
          "output_type": "stream",
          "text": [
            "Micro Average Precision Score: 0.84\n",
            "Macro Average Precision Score: 0.81\n"
          ],
          "name": "stdout"
        }
      ]
    },
    {
      "cell_type": "markdown",
      "metadata": {
        "id": "StwdBRJNN_00"
      },
      "source": [
        "# Income Class of Adults (Above and Below 50k)"
      ]
    },
    {
      "cell_type": "code",
      "metadata": {
        "colab": {
          "base_uri": "https://localhost:8080/"
        },
        "id": "JZxtgBr4XZE4",
        "outputId": "bfb3c1d8-bd04-4736-8f42-cb060f0b0f8d"
      },
      "source": [
        "print('Number of instances in the > $50,000 class: {}'.format(\n",
        "    len(income[income.income_map ==1])))\n",
        "print('Number of instances in the < $50,000 class: {}'.format(\n",
        "    len(income[income.income_map ==0])))"
      ],
      "execution_count": 21,
      "outputs": [
        {
          "output_type": "stream",
          "text": [
            "Number of instances in the > $50,000 class: 7841\n",
            "Number of instances in the < $50,000 class: 24720\n"
          ],
          "name": "stdout"
        }
      ]
    },
    {
      "cell_type": "markdown",
      "metadata": {
        "id": "oadM4E_5VbMF"
      },
      "source": [
        "##OUTCOME :Accuracy of Income Class in %"
      ]
    },
    {
      "cell_type": "markdown",
      "metadata": {
        "id": "wCFEejLyNAKC"
      },
      "source": [
        "Confusion Matrix"
      ]
    },
    {
      "cell_type": "code",
      "metadata": {
        "id": "_8cPJWszWz4Y"
      },
      "source": [
        "def confusion(model):\n",
        "    \n",
        "    # Creats a confusion matrix/heatmap for the logistic regression models predicted values\n",
        "    from sklearn.metrics import confusion_matrix\n",
        "    \n",
        "    y_pred = model.predict(X_test)\n",
        "    confusion_mc = confusion_matrix(y_test, y_pred)\n",
        "    df_cm = pd.DataFrame(confusion_mc)\n",
        "\n",
        "    plt.figure(figsize=(5.5,4))\n",
        "    sns.heatmap(df_cm, annot=True)\n",
        "    n1=model.score(X_test, y_test)\n",
        "    plt.title('Model Accuracy:{:.2%}'.format(round(n1,2)))"
      ],
      "execution_count": 22,
      "outputs": []
    },
    {
      "cell_type": "code",
      "metadata": {
        "colab": {
          "base_uri": "https://localhost:8080/",
          "height": 281
        },
        "id": "RWZ46ORgXGmU",
        "outputId": "cfec6599-cba7-4f46-9f12-3bbbc90e8844"
      },
      "source": [
        "confusion(rdm_forest_clf)"
      ],
      "execution_count": 23,
      "outputs": [
        {
          "output_type": "display_data",
          "data": {
            "image/png": "[encoded data removed]",
            "text/plain": [
              "<Figure size 396x288 with 2 Axes>"
            ]
          },
          "metadata": {
            "tags": [],
            "needs_background": "light"
          }
        }
      ]
    }
  ]
}