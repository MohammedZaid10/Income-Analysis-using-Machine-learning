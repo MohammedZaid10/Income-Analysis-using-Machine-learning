{
  "nbformat": 4,
  "nbformat_minor": 0,
  "metadata": {
    "colab": {
      "name": "Logistic_Regression.ipynb",
      "provenance": [],
      "collapsed_sections": []
    },
    "kernelspec": {
      "name": "python3",
      "display_name": "Python 3"
    }
  },
  "cells": [
    {
      "cell_type": "code",
      "metadata": {
        "id": "H0E70hDpWIry"
      },
      "source": [
        "import pandas as pd\n",
        "import numpy as np\n",
        "import matplotlib.pyplot as plt\n",
        "import seaborn as sns\n",
        "%matplotlib inline"
      ],
      "execution_count": 1,
      "outputs": []
    },
    {
      "cell_type": "code",
      "metadata": {
        "id": "wjIAE-lKWMeX"
      },
      "source": [
        "income = pd.read_csv('adult_income.csv')"
      ],
      "execution_count": 2,
      "outputs": []
    },
    {
      "cell_type": "code",
      "metadata": {
        "colab": {
          "base_uri": "https://localhost:8080/",
          "height": 247
        },
        "id": "OsIdogPYWTBI",
        "outputId": "9459f7c2-4a3f-4cd8-ed81-1548645494a4"
      },
      "source": [
        "income.head()"
      ],
      "execution_count": 3,
      "outputs": [
        {
          "output_type": "execute_result",
          "data": {
            "text/html": [
              "<div>\n",
              "<style scoped>\n",
              "    .dataframe tbody tr th:only-of-type {\n",
              "        vertical-align: middle;\n",
              "    }\n",
              "\n",
              "    .dataframe tbody tr th {\n",
              "        vertical-align: top;\n",
              "    }\n",
              "\n",
              "    .dataframe thead th {\n",
              "        text-align: right;\n",
              "    }\n",
              "</style>\n",
              "<table border=\"1\" class=\"dataframe\">\n",
              "  <thead>\n",
              "    <tr style=\"text-align: right;\">\n",
              "      <th></th>\n",
              "      <th>age</th>\n",
              "      <th>workclass</th>\n",
              "      <th>fnlwgt</th>\n",
              "      <th>education</th>\n",
              "      <th>education.num</th>\n",
              "      <th>marital.status</th>\n",
              "      <th>occupation</th>\n",
              "      <th>relationship</th>\n",
              "      <th>race</th>\n",
              "      <th>sex</th>\n",
              "      <th>capital.gain</th>\n",
              "      <th>capital.loss</th>\n",
              "      <th>hours.per.week</th>\n",
              "      <th>native.country</th>\n",
              "      <th>income</th>\n",
              "    </tr>\n",
              "  </thead>\n",
              "  <tbody>\n",
              "    <tr>\n",
              "      <th>0</th>\n",
              "      <td>90</td>\n",
              "      <td>?</td>\n",
              "      <td>77053</td>\n",
              "      <td>HS-grad</td>\n",
              "      <td>9</td>\n",
              "      <td>Widowed</td>\n",
              "      <td>?</td>\n",
              "      <td>Not-in-family</td>\n",
              "      <td>White</td>\n",
              "      <td>Female</td>\n",
              "      <td>0</td>\n",
              "      <td>4356</td>\n",
              "      <td>40</td>\n",
              "      <td>United-States</td>\n",
              "      <td>&lt;=50K</td>\n",
              "    </tr>\n",
              "    <tr>\n",
              "      <th>1</th>\n",
              "      <td>82</td>\n",
              "      <td>Private</td>\n",
              "      <td>132870</td>\n",
              "      <td>HS-grad</td>\n",
              "      <td>9</td>\n",
              "      <td>Widowed</td>\n",
              "      <td>Exec-managerial</td>\n",
              "      <td>Not-in-family</td>\n",
              "      <td>White</td>\n",
              "      <td>Female</td>\n",
              "      <td>0</td>\n",
              "      <td>4356</td>\n",
              "      <td>18</td>\n",
              "      <td>United-States</td>\n",
              "      <td>&lt;=50K</td>\n",
              "    </tr>\n",
              "    <tr>\n",
              "      <th>2</th>\n",
              "      <td>66</td>\n",
              "      <td>?</td>\n",
              "      <td>186061</td>\n",
              "      <td>Some-college</td>\n",
              "      <td>10</td>\n",
              "      <td>Widowed</td>\n",
              "      <td>?</td>\n",
              "      <td>Unmarried</td>\n",
              "      <td>Black</td>\n",
              "      <td>Female</td>\n",
              "      <td>0</td>\n",
              "      <td>4356</td>\n",
              "      <td>40</td>\n",
              "      <td>United-States</td>\n",
              "      <td>&lt;=50K</td>\n",
              "    </tr>\n",
              "    <tr>\n",
              "      <th>3</th>\n",
              "      <td>54</td>\n",
              "      <td>Private</td>\n",
              "      <td>140359</td>\n",
              "      <td>7th-8th</td>\n",
              "      <td>4</td>\n",
              "      <td>Divorced</td>\n",
              "      <td>Machine-op-inspct</td>\n",
              "      <td>Unmarried</td>\n",
              "      <td>White</td>\n",
              "      <td>Female</td>\n",
              "      <td>0</td>\n",
              "      <td>3900</td>\n",
              "      <td>40</td>\n",
              "      <td>United-States</td>\n",
              "      <td>&lt;=50K</td>\n",
              "    </tr>\n",
              "    <tr>\n",
              "      <th>4</th>\n",
              "      <td>41</td>\n",
              "      <td>Private</td>\n",
              "      <td>264663</td>\n",
              "      <td>Some-college</td>\n",
              "      <td>10</td>\n",
              "      <td>Separated</td>\n",
              "      <td>Prof-specialty</td>\n",
              "      <td>Own-child</td>\n",
              "      <td>White</td>\n",
              "      <td>Female</td>\n",
              "      <td>0</td>\n",
              "      <td>3900</td>\n",
              "      <td>40</td>\n",
              "      <td>United-States</td>\n",
              "      <td>&lt;=50K</td>\n",
              "    </tr>\n",
              "  </tbody>\n",
              "</table>\n",
              "</div>"
            ],
            "text/plain": [
              "   age workclass  fnlwgt  ... hours.per.week  native.country income\n",
              "0   90         ?   77053  ...             40   United-States  <=50K\n",
              "1   82   Private  132870  ...             18   United-States  <=50K\n",
              "2   66         ?  186061  ...             40   United-States  <=50K\n",
              "3   54   Private  140359  ...             40   United-States  <=50K\n",
              "4   41   Private  264663  ...             40   United-States  <=50K\n",
              "\n",
              "[5 rows x 15 columns]"
            ]
          },
          "metadata": {
            "tags": []
          },
          "execution_count": 3
        }
      ]
    },
    {
      "cell_type": "code",
      "metadata": {
        "id": "8xGxP6aGWb_b"
      },
      "source": [
        "income.columns = income.columns.str.replace('.','_')"
      ],
      "execution_count": 4,
      "outputs": []
    },
    {
      "cell_type": "code",
      "metadata": {
        "id": "10j4LDLNWeZC"
      },
      "source": [
        "income['income_map'] = income.income.map({'<=50K':0, '>50K': 1})\n",
        "income['sex_map'] = income.sex.map({'Female':0, 'Male':1})\n",
        "income['race_map']=income.race.map({'White':0, 'Black':1, \n",
        "                                    'Asian-Pac-Islander':2, 'Amer-Indian-Eskimo':3})\n",
        "income['marital_map'] = income.marital_status.map({'Widowed':0, 'Divorced':1, 'Separated':2,\n",
        "                                                  'Never-married':3, 'Married-civ-spouse':4,\n",
        "                                                  'Married-spouse-absent':5, 'Married-AF-spouse':6})\n",
        "income['rel_map']=income.relationship.map({'Not-in-family':0, 'Unmarried':0, \n",
        "                                           'Own-child':0, 'Other-relative':0, \n",
        "                                           'Husband':1, 'Wife':1})\n",
        "income['work_map']=income.workclass.map({'?':0, 'Private':1, 'State-gov':2, 'Federal-gov':3, \n",
        "                                        'Self-emp-not-inc':4, 'Self-emp-inc': 5, 'Local-gov': 6,\n",
        "                                        'Without-pay':7, 'Never-worked':8})"
      ],
      "execution_count": 5,
      "outputs": []
    },
    {
      "cell_type": "code",
      "metadata": {
        "id": "hkO7ZYe1Weso"
      },
      "source": [
        "num_cols = ['age', 'sex_map', 'race_map','education_num', 'work_map', \n",
        "            'marital_map', 'rel_map', 'hours_per_week','capital_gain', 'capital_loss', \n",
        "            'fnlwgt', 'income_map']"
      ],
      "execution_count": 6,
      "outputs": []
    },
    {
      "cell_type": "code",
      "metadata": {
        "id": "wSp0ipU6WfDp"
      },
      "source": [
        "income=income[num_cols].fillna(-9999)"
      ],
      "execution_count": 7,
      "outputs": []
    },
    {
      "cell_type": "code",
      "metadata": {
        "colab": {
          "base_uri": "https://localhost:8080/",
          "height": 197
        },
        "id": "fgKhcBWoWfag",
        "outputId": "60b289a0-935a-4837-bf91-cc17a16413f2"
      },
      "source": [
        "income.head()"
      ],
      "execution_count": 8,
      "outputs": [
        {
          "output_type": "execute_result",
          "data": {
            "text/html": [
              "<div>\n",
              "<style scoped>\n",
              "    .dataframe tbody tr th:only-of-type {\n",
              "        vertical-align: middle;\n",
              "    }\n",
              "\n",
              "    .dataframe tbody tr th {\n",
              "        vertical-align: top;\n",
              "    }\n",
              "\n",
              "    .dataframe thead th {\n",
              "        text-align: right;\n",
              "    }\n",
              "</style>\n",
              "<table border=\"1\" class=\"dataframe\">\n",
              "  <thead>\n",
              "    <tr style=\"text-align: right;\">\n",
              "      <th></th>\n",
              "      <th>age</th>\n",
              "      <th>sex_map</th>\n",
              "      <th>race_map</th>\n",
              "      <th>education_num</th>\n",
              "      <th>work_map</th>\n",
              "      <th>marital_map</th>\n",
              "      <th>rel_map</th>\n",
              "      <th>hours_per_week</th>\n",
              "      <th>capital_gain</th>\n",
              "      <th>capital_loss</th>\n",
              "      <th>fnlwgt</th>\n",
              "      <th>income_map</th>\n",
              "    </tr>\n",
              "  </thead>\n",
              "  <tbody>\n",
              "    <tr>\n",
              "      <th>0</th>\n",
              "      <td>90</td>\n",
              "      <td>0</td>\n",
              "      <td>0.0</td>\n",
              "      <td>9</td>\n",
              "      <td>0</td>\n",
              "      <td>0</td>\n",
              "      <td>0</td>\n",
              "      <td>40</td>\n",
              "      <td>0</td>\n",
              "      <td>4356</td>\n",
              "      <td>77053</td>\n",
              "      <td>0</td>\n",
              "    </tr>\n",
              "    <tr>\n",
              "      <th>1</th>\n",
              "      <td>82</td>\n",
              "      <td>0</td>\n",
              "      <td>0.0</td>\n",
              "      <td>9</td>\n",
              "      <td>1</td>\n",
              "      <td>0</td>\n",
              "      <td>0</td>\n",
              "      <td>18</td>\n",
              "      <td>0</td>\n",
              "      <td>4356</td>\n",
              "      <td>132870</td>\n",
              "      <td>0</td>\n",
              "    </tr>\n",
              "    <tr>\n",
              "      <th>2</th>\n",
              "      <td>66</td>\n",
              "      <td>0</td>\n",
              "      <td>1.0</td>\n",
              "      <td>10</td>\n",
              "      <td>0</td>\n",
              "      <td>0</td>\n",
              "      <td>0</td>\n",
              "      <td>40</td>\n",
              "      <td>0</td>\n",
              "      <td>4356</td>\n",
              "      <td>186061</td>\n",
              "      <td>0</td>\n",
              "    </tr>\n",
              "    <tr>\n",
              "      <th>3</th>\n",
              "      <td>54</td>\n",
              "      <td>0</td>\n",
              "      <td>0.0</td>\n",
              "      <td>4</td>\n",
              "      <td>1</td>\n",
              "      <td>1</td>\n",
              "      <td>0</td>\n",
              "      <td>40</td>\n",
              "      <td>0</td>\n",
              "      <td>3900</td>\n",
              "      <td>140359</td>\n",
              "      <td>0</td>\n",
              "    </tr>\n",
              "    <tr>\n",
              "      <th>4</th>\n",
              "      <td>41</td>\n",
              "      <td>0</td>\n",
              "      <td>0.0</td>\n",
              "      <td>10</td>\n",
              "      <td>1</td>\n",
              "      <td>2</td>\n",
              "      <td>0</td>\n",
              "      <td>40</td>\n",
              "      <td>0</td>\n",
              "      <td>3900</td>\n",
              "      <td>264663</td>\n",
              "      <td>0</td>\n",
              "    </tr>\n",
              "  </tbody>\n",
              "</table>\n",
              "</div>"
            ],
            "text/plain": [
              "   age  sex_map  race_map  ...  capital_loss  fnlwgt  income_map\n",
              "0   90        0       0.0  ...          4356   77053           0\n",
              "1   82        0       0.0  ...          4356  132870           0\n",
              "2   66        0       1.0  ...          4356  186061           0\n",
              "3   54        0       0.0  ...          3900  140359           0\n",
              "4   41        0       0.0  ...          3900  264663           0\n",
              "\n",
              "[5 rows x 12 columns]"
            ]
          },
          "metadata": {
            "tags": []
          },
          "execution_count": 8
        }
      ]
    },
    {
      "cell_type": "code",
      "metadata": {
        "id": "B8niOTMDWfy0"
      },
      "source": [
        "features=['age', 'sex_map', 'race_map','education_num', 'work_map', \n",
        "          'marital_map', 'rel_map', 'hours_per_week','capital_gain', \n",
        "          'capital_loss', 'fnlwgt']\n",
        "\n",
        "target=['income_map']"
      ],
      "execution_count": 9,
      "outputs": []
    },
    {
      "cell_type": "code",
      "metadata": {
        "id": "OMtVZAJiWxlT"
      },
      "source": [
        "X = income[features].values\n",
        "y = income[target].values.flatten()"
      ],
      "execution_count": 10,
      "outputs": []
    },
    {
      "cell_type": "code",
      "metadata": {
        "id": "rzRQFDqrWx53"
      },
      "source": [
        "from sklearn.model_selection import train_test_split\n",
        "    \n",
        "X_train, X_test, y_train, y_test = train_test_split(X,y, random_state=0)"
      ],
      "execution_count": 11,
      "outputs": []
    },
    {
      "cell_type": "markdown",
      "metadata": {
        "id": "5CicYAokxMpz"
      },
      "source": [
        "# Logistic Regression"
      ]
    },
    {
      "cell_type": "code",
      "metadata": {
        "id": "qpZmtofSWyW0"
      },
      "source": [
        "def logistic_regression():\n",
        "    \n",
        "    # Instantiates and trains a logistic regression model using grid search  \n",
        "    # to find optimalhyperparameter values \n",
        "    \n",
        "    from sklearn.linear_model import LogisticRegression\n",
        "    from sklearn.model_selection import GridSearchCV\n",
        "    from sklearn.exceptions import FitFailedWarning\n",
        "    import warnings\n",
        "    warnings.simplefilter('always', FitFailedWarning)\n",
        "\n",
        "    logreg = LogisticRegression()\n",
        "    grid_values = {'penalty' : ['l1', 'l2'], 'C': [0.01, 0.1, 1, 10, 100]}\n",
        "    \n",
        "    grid_lr_rec = GridSearchCV(logreg, param_grid = grid_values, scoring = 'accuracy')\n",
        "    with warnings.catch_warnings(record=True) as w:\n",
        "       try:\n",
        "         grid_lr_rec.fit(X, y)  # This will raise a ValueError since C is < 0\n",
        "       except ValueError:\n",
        "         pass\n",
        "       return grid_lr_rec.best_estimator_    "
      ],
      "execution_count": 12,
      "outputs": []
    },
    {
      "cell_type": "code",
      "metadata": {
        "id": "d86gZzK1Wyr_"
      },
      "source": [
        "logreg = logistic_regression()"
      ],
      "execution_count": 13,
      "outputs": []
    },
    {
      "cell_type": "markdown",
      "metadata": {
        "id": "PDaieG2icqYp"
      },
      "source": [
        "#Analysis of Income using the Machine Learning Algorithm"
      ]
    },
    {
      "cell_type": "markdown",
      "metadata": {
        "id": "rG6NZBGEdHSb"
      },
      "source": [
        "Evaluation"
      ]
    },
    {
      "cell_type": "code",
      "metadata": {
        "id": "lDGN5UVoWzMZ"
      },
      "source": [
        "def evaluation(model):\n",
        "    from sklearn.metrics import classification_report\n",
        "    \n",
        "    # This function gives provides verious evaluation metrics for the input model\n",
        "    \n",
        "    y_pred = model.predict(X_test)\n",
        "    \n",
        "    print(classification_report(y_test, y_pred, target_names = ['Under 50k', 'Over 50k']))\n",
        "    print('Training Set Accuracy Score: {:.2f}'.format(model.score(X_train, y_train)))\n",
        "    print('Testing Set Accuracy Score: {:.2f}'.format(model.score(X_test, y_test)))"
      ],
      "execution_count": 14,
      "outputs": []
    },
    {
      "cell_type": "code",
      "metadata": {
        "colab": {
          "base_uri": "https://localhost:8080/"
        },
        "id": "ZwE6l7QtWzcF",
        "outputId": "bdb95ad3-dff3-4f5c-edc7-662d9ba454b7"
      },
      "source": [
        "evaluation(logreg)"
      ],
      "execution_count": 15,
      "outputs": [
        {
          "output_type": "stream",
          "text": [
            "              precision    recall  f1-score   support\n",
            "\n",
            "   Under 50k       0.81      0.97      0.88      6193\n",
            "    Over 50k       0.72      0.27      0.39      1948\n",
            "\n",
            "    accuracy                           0.80      8141\n",
            "   macro avg       0.76      0.62      0.63      8141\n",
            "weighted avg       0.79      0.80      0.76      8141\n",
            "\n",
            "Training Set Accuracy Score: 0.80\n",
            "Testing Set Accuracy Score: 0.80\n"
          ],
          "name": "stdout"
        }
      ]
    },
    {
      "cell_type": "markdown",
      "metadata": {
        "id": "oadM4E_5VbMF"
      },
      "source": [
        "Confusion"
      ]
    },
    {
      "cell_type": "code",
      "metadata": {
        "id": "_8cPJWszWz4Y"
      },
      "source": [
        "def confusion(model):\n",
        "    \n",
        "    # Creats a confusion matrix/heatmap for the logistic regression models predicted values\n",
        "    from sklearn.metrics import confusion_matrix\n",
        "    \n",
        "    y_pred = model.predict(X_test)\n",
        "    confusion_mc = confusion_matrix(y_test, y_pred)\n",
        "    df_cm = pd.DataFrame(confusion_mc)\n",
        "\n",
        "    plt.figure(figsize=(5.5,4))\n",
        "    sns.heatmap(df_cm, annot=True)\n",
        "    n1=model.score(X_test, y_test)\n",
        "    plt.title('Model Accuracy:{:.2%}'.format(round(n1,2)))"
      ],
      "execution_count": 16,
      "outputs": []
    },
    {
      "cell_type": "code",
      "metadata": {
        "colab": {
          "base_uri": "https://localhost:8080/",
          "height": 281
        },
        "id": "RWZ46ORgXGmU",
        "outputId": "d144de92-58a9-4118-c8dd-bf97458d2e94"
      },
      "source": [
        "confusion(logreg)"
      ],
      "execution_count": 17,
      "outputs": [
        {
          "output_type": "display_data",
          "data": {
            "image/png": "[encoded data removed]",
            "text/plain": [
              "<Figure size 396x288 with 2 Axes>"
            ]
          },
          "metadata": {
            "tags": [],
            "needs_background": "light"
          }
        }
      ]
    },
    {
      "cell_type": "markdown",
      "metadata": {
        "id": "IIEOwZ_eVeYG"
      },
      "source": [
        "Precision recall"
      ]
    },
    {
      "cell_type": "markdown",
      "metadata": {
        "id": "emRa9e0bNSHK"
      },
      "source": [
        "The Precision-Recall curve shows the trade off between precision and recall scores as we vary the decision threshold for classification (using either using either a probability threshold or a decision function threshold)."
      ]
    },
    {
      "cell_type": "code",
      "metadata": {
        "id": "OtUumPUVXG92"
      },
      "source": [
        "def precision_recall(model):\n",
        "    from sklearn.metrics import precision_recall_curve\n",
        "    \n",
        "    proba = model.predict_proba(X_test)\n",
        "    \n",
        "    precision, recall, threshold = precision_recall_curve(y_test, proba[:,1])\n",
        "    \n",
        "    plt.plot(precision, recall)\n",
        "    plt.xlabel('Precision')\n",
        "    plt.ylabel('Recall')\n",
        "    plt.title('Precision-Recall Curve')"
      ],
      "execution_count": 18,
      "outputs": []
    },
    {
      "cell_type": "code",
      "metadata": {
        "colab": {
          "base_uri": "https://localhost:8080/",
          "height": 294
        },
        "id": "VpFCmPx3XHcj",
        "outputId": "7f040bc5-76e3-441d-a506-280198b71934"
      },
      "source": [
        "precision_recall(logreg)"
      ],
      "execution_count": 19,
      "outputs": [
        {
          "output_type": "display_data",
          "data": {
            "image/png": "[encoded data removed]",
            "text/plain": [
              "<Figure size 432x288 with 1 Axes>"
            ]
          },
          "metadata": {
            "tags": [],
            "needs_background": "light"
          }
        }
      ]
    },
    {
      "cell_type": "markdown",
      "metadata": {
        "id": "zN6DU5RcVi8O"
      },
      "source": [
        "Roc Curve"
      ]
    },
    {
      "cell_type": "markdown",
      "metadata": {
        "id": "gz_KHj70Ne2I"
      },
      "source": [
        "The ROC curve (Receiver Operating Charastic) preforms the same feat for the True Positive Rate (recall) and the False Positive Rate. "
      ]
    },
    {
      "cell_type": "code",
      "metadata": {
        "id": "KTWN53_BXOCf"
      },
      "source": [
        "def roc_curve(model):\n",
        "    from sklearn.metrics import roc_curve, auc\n",
        "    \n",
        "    #scores = model.decision_function(X_test)\n",
        "    proba = model.predict_proba(X_test)\n",
        "    \n",
        "    fpr, tpr, _ = roc_curve(y_test, proba[:,1])\n",
        "    \n",
        "    plt.plot(fpr, tpr)\n",
        "    plt.xlabel('False Positive Rate')\n",
        "    plt.ylabel('True Positive Rate')\n",
        "    plt.title('ROC Curve. AUC: {}'.format(auc(fpr, tpr)))"
      ],
      "execution_count": 20,
      "outputs": []
    },
    {
      "cell_type": "code",
      "metadata": {
        "colab": {
          "base_uri": "https://localhost:8080/",
          "height": 294
        },
        "id": "ChdC7JF5XQWO",
        "outputId": "287d9edc-1bff-44d3-9f28-08112b181b37"
      },
      "source": [
        "roc_curve(logreg)"
      ],
      "execution_count": 21,
      "outputs": [
        {
          "output_type": "display_data",
          "data": {
            "image/png": "[encoded data removed]",
            "text/plain": [
              "<Figure size 432x288 with 1 Axes>"
            ]
          },
          "metadata": {
            "tags": [],
            "needs_background": "light"
          }
        }
      ]
    },
    {
      "cell_type": "markdown",
      "metadata": {
        "id": "8RkbYUj3Nlkm"
      },
      "source": [
        "Micro Average and Macro Average"
      ]
    },
    {
      "cell_type": "markdown",
      "metadata": {
        "id": "3To6e4aVNvf4"
      },
      "source": [
        "When the micro average (each instance has same weight) preforms better than the macro average (each class has same weight) this is an indicator that the model is preforming better on the more frequent class. This holds true with the results from the evaluation function above, in which the model performed substantially better on the class earning less than $50,000."
      ]
    },
    {
      "cell_type": "code",
      "metadata": {
        "colab": {
          "base_uri": "https://localhost:8080/"
        },
        "id": "gADEa6_KXUkx",
        "outputId": "1fefcd7f-e75e-4556-f0b5-951ae3786d8e"
      },
      "source": [
        "from sklearn.metrics import precision_score\n",
        "\n",
        "y_pred = logreg.predict(X_test)\n",
        "\n",
        "micro_avg = precision_score(y_test, y_pred, average='micro')\n",
        "macro_avg = precision_score(y_test, y_pred, average='macro')\n",
        "\n",
        "print('Micro Average Precision Score: {:.2f}'.format(\n",
        "    precision_score(y_test, y_pred, average='micro')))\n",
        "print('Macro Average Precision Score: {:.2f}'.format(\n",
        "    precision_score(y_test, y_pred, average='macro')))\n"
      ],
      "execution_count": 22,
      "outputs": [
        {
          "output_type": "stream",
          "text": [
            "Micro Average Precision Score: 0.80\n",
            "Macro Average Precision Score: 0.76\n"
          ],
          "name": "stdout"
        }
      ]
    },
    {
      "cell_type": "markdown",
      "metadata": {
        "id": "StwdBRJNN_00"
      },
      "source": [
        "# Income Class of Adults (Above and Below 50k)"
      ]
    },
    {
      "cell_type": "code",
      "metadata": {
        "colab": {
          "base_uri": "https://localhost:8080/"
        },
        "id": "JZxtgBr4XZE4",
        "outputId": "d4673787-0232-479f-8c20-e78f07c86dfd"
      },
      "source": [
        "print('Number of instances in the > $50,000 class: {}'.format(\n",
        "    len(income[income.income_map ==1])))\n",
        "print('Number of instances in the < $50,000 class: {}'.format(\n",
        "    len(income[income.income_map ==0])))"
      ],
      "execution_count": 23,
      "outputs": [
        {
          "output_type": "stream",
          "text": [
            "Number of instances in the > $50,000 class: 7841\n",
            "Number of instances in the < $50,000 class: 24720\n"
          ],
          "name": "stdout"
        }
      ]
    }
  ]
}